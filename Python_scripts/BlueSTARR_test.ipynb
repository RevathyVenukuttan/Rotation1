{
 "cells": [
  {
   "cell_type": "markdown",
   "id": "e17ecd38-705a-4e04-9d04-b53818ce377f",
   "metadata": {},
   "source": [
    "Code to run: \n",
    "\n",
    "You could run this to get background sequences:\n",
    "`python /datacommons/igvf-pm/K562/leave-one-out/BlueSTARR/test-variants-ref.py /datacommons/igvf-pm/A549/full-set/Dex-200 /datacommons/igvf-pm/A549/GR-AP1/ref-seq/Dex-200/chr1.txt /datacommons/igvf-pm/A549/GR-AP1/ref-score/Dex-200/chr1.txt`\n",
    "It will compute the reference score for each background sequence by using our trained model.\n",
    " \n",
    "I selected 50 sequences which have the lowest reference score and inserted GR and AP1 into the selected background sequences to build the enhancer sequences. I fixed AP1 at position 10 and move GR away from AP1 for a certain distance. Here is the script which can do this:\n",
    "`python /datacommons/igvf-pm/K562/leave-one-out/BlueSTARR/GR-AP1/enhancer_seq.py /datacommons/igvf-pm/A549/GR-AP1/ref-score/Dex-200 /datacommons/igvf-pm/A549/GR-AP1/enhancer-seq/generated-seq 50 10`\n",
    " \n",
    "This is how I compute the fold change. The log2FC here was defined as reference score from Dex - reference score from DMSO.\n",
    "`python /datacommons/igvf-pm/K562/leave-one-out/BlueSTARR/test-variants-fc.py /datacommons/igvf-pm/A549/full-set/DMSO-200 /datacommons/igvf-pm/A549/full-set/Dex-200 /datacommons/igvf-pm/A549/GR-AP1/enhancer-seq/generated-seq/chr1-b-ap1-b-gr.txt /datacommons/igvf-pm/A549/GR-AP1/enhancer-seq/fc-full/Dex-DMSO/chr1-b-ap1-b-gr-fc.txt`\n",
    " \n",
    "`/datacommons/igvf-pm/A549/GR-AP1/plot.R` is the R script to make the plots.\n",
    "\n",
    "\n",
    "Conda env to use: `conda activate /hpc/home/bmajoros/lab/conda/TF4`"
   ]
  },
  {
   "cell_type": "code",
   "execution_count": 4,
   "id": "2fe6d5a0-5676-4ed6-a40e-b2642f00184e",
   "metadata": {},
   "outputs": [
    {
     "name": "stdout",
     "output_type": "stream",
     "text": [
      "/hpc/home/rv103/revathy/BlueSTARR/test/scripts\n"
     ]
    }
   ],
   "source": [
    "#SBATCH --get-user-env\n",
    "#SBATCH -J fc\n",
    "#SBATCH -o /datacommons/igvf-pm/K562/leave-one-out/BlueSTARR/GR-AP1/slurm/outputs/%a.out\n",
    "#SBATCH -e /datacommons/igvf-pm/K562/leave-one-out/BlueSTARR/GR-AP1/slurm/outputs/%a.err\n",
    "#SBATCH --exclusive\n",
    "#SBATCH --gres=gpu:1\n",
    "#SBATCH --array=1-4%4\n",
    "#SBATCH -p majoroslab-gpu,scavenger-gpu\n",
    "#SBATCH --nice=100\n",
    "#SBATCH --mem=102400\n",
    "#SBATCH --cpus-per-task=1\n",
    "#"
   ]
  },
  {
   "cell_type": "code",
   "execution_count": 5,
   "id": "159626ff-e356-487b-b649-e94614b4d86a",
   "metadata": {},
   "outputs": [
    {
     "name": "stdout",
     "output_type": "stream",
     "text": [
      "Writing /hpc/home/rv103/revathy/BlueSTARR/test/scripts/test-variants-ref.sh\n"
     ]
    }
   ],
   "source": [
    "%%writefile /hpc/home/rv103/revathy/BlueSTARR/test/scripts/test-variants-ref.q\n",
    "#!/bin/sh\n",
    "#\n",
    "#SBATCH --get-user-env\n",
    "#SBATCH -J test_variant\n",
    "#SBATCH --mail-user=rv103@duke.edu\n",
    "#SBATCH --mail-type=END,FAIL\n",
    "#SBATCH --gres=gpu:1\n",
    "#SBATCH -p majoroslab-gpu,scavenger-gpu\n",
    "#SBATCH --nice=100\n",
    "#SBATCH --mem=102400\n",
    "#SBATCH --cpus-per-task=1\n",
    "#SBATCH -o /hpc/home/rv103/revathy/BlueSTARR/test/logs/test_variant.out\n",
    "#SBATCH -e /hpc/home/rv103/revathy/BlueSTARR/test/logs/test_variant.err\n",
    "#\n",
    "python /datacommons/igvf-pm/K562/leave-one-out/BlueSTARR/test-variants-ref.py \\\n",
    "/datacommons/igvf-pm/A549/full-set/Dex-200 \\\n",
    "/datacommons/igvf-pm/A549/GR-AP1/ref-seq/Dex-200/chr1.txt \\\n",
    "/hpc/home/rv103/revathy/BlueSTARR/test/data/ref_score/chr1.txt"
   ]
  },
  {
   "cell_type": "code",
   "execution_count": 2,
   "id": "5388a002-b287-4aa3-b285-7c030b578178",
   "metadata": {},
   "outputs": [
    {
     "name": "stdout",
     "output_type": "stream",
     "text": [
      "Overwriting /hpc/home/rv103/revathy/BlueSTARR/test/scripts/enhancer-seq.q\n"
     ]
    }
   ],
   "source": [
    "%%writefile /hpc/home/rv103/revathy/BlueSTARR/test/scripts/enhancer-seq.q\n",
    "#!/bin/sh\n",
    "#\n",
    "#SBATCH --get-user-env\n",
    "#SBATCH -J enhancer_seq\n",
    "#SBATCH --mail-user=rv103@duke.edu\n",
    "#SBATCH --mail-type=END,FAIL\n",
    "#SBATCH --gres=gpu:1\n",
    "#SBATCH -p majoroslab-gpu,scavenger-gpu\n",
    "#SBATCH --nice=100\n",
    "#SBATCH --mem=102400\n",
    "#SBATCH --cpus-per-task=1\n",
    "#SBATCH -o /hpc/home/rv103/revathy/BlueSTARR/test/logs/enhancer_seq.out\n",
    "#SBATCH -e /hpc/home/rv103/revathy/BlueSTARR/test/logs/enhancer_seq.err\n",
    "#\n",
    "python /datacommons/igvf-pm/K562/leave-one-out/BlueSTARR/GR-AP1/enhancer_seq.py \\\n",
    "/hpc/home/rv103/revathy/BlueSTARR/test/data/ref_score \\\n",
    "/hpc/home/rv103/revathy/BlueSTARR/test/data/generated-seq 50 10 "
   ]
  },
  {
   "cell_type": "code",
   "execution_count": 3,
   "id": "468562c1-ab4e-4f5c-8f24-fb1498fb666c",
   "metadata": {},
   "outputs": [
    {
     "name": "stdout",
     "output_type": "stream",
     "text": [
      "Writing /hpc/home/rv103/revathy/BlueSTARR/test/scripts/logfc.q\n"
     ]
    }
   ],
   "source": [
    "%%writefile /hpc/home/rv103/revathy/BlueSTARR/test/scripts/logfc.q\n",
    "#!/bin/sh\n",
    "#\n",
    "#SBATCH --get-user-env\n",
    "#SBATCH -J logfc\n",
    "#SBATCH --mail-user=rv103@duke.edu\n",
    "#SBATCH --mail-type=END,FAIL\n",
    "#SBATCH --gres=gpu:1\n",
    "#SBATCH -p majoroslab-gpu,scavenger-gpu\n",
    "#SBATCH --nice=100\n",
    "#SBATCH --mem=102400\n",
    "#SBATCH --cpus-per-task=1\n",
    "#SBATCH -o /hpc/home/rv103/revathy/BlueSTARR/test/logs/logfc.out\n",
    "#SBATCH -e /hpc/home/rv103/revathy/BlueSTARR/test/logs/logfc.err\n",
    "#\n",
    "python /datacommons/igvf-pm/K562/leave-one-out/BlueSTARR/test-variants-fc.py \\\n",
    "/datacommons/igvf-pm/A549/full-set/DMSO-200 \\\n",
    "/datacommons/igvf-pm/A549/full-set/Dex-200 \\\n",
    "/hpc/home/rv103/revathy/BlueSTARR/test/data/generated-seq/chr1-b-ap1-b-gr.txt \\\n",
    "/hpc/home/rv103/revathy/BlueSTARR/test/data/logfc/chr1-b-ap1-b-gr-fc.txt"
   ]
  },
  {
   "cell_type": "code",
   "execution_count": 3,
   "id": "d8714044-eb51-44b7-bd36-7e98f46affde",
   "metadata": {},
   "outputs": [
    {
     "name": "stdout",
     "output_type": "stream",
     "text": [
      "Overwriting /hpc/home/rv103/revathy/BlueSTARR/test/scripts/K562_refseq_test.q\n"
     ]
    }
   ],
   "source": [
    "%%writefile /hpc/home/rv103/revathy/BlueSTARR/test/scripts/K562_refseq_test.q\n",
    "#!/bin/sh\n",
    "#\n",
    "#SBATCH --get-user-env\n",
    "#SBATCH -J ref_seq_K562_test\n",
    "#SBATCH --mail-user=rv103@duke.edu\n",
    "#SBATCH --mail-type=END,FAIL\n",
    "#SBATCH --gres=gpu:1\n",
    "#SBATCH -p majoroslab-gpu,scavenger-gpu\n",
    "#SBATCH --nice=100\n",
    "#SBATCH --mem=102400\n",
    "#SBATCH --cpus-per-task=1\n",
    "#SBATCH -o /hpc/home/rv103/revathy/BlueSTARR/test/logs/ref_seq_K562.out\n",
    "#SBATCH -e /hpc/home/rv103/revathy/BlueSTARR/test/logs/ref_seq_K562.err\n",
    "\n",
    "mkdir -p /hpc/home/rv103/revathy/BlueSTARR/test/data/ref_seq\n",
    "python /datacommons/igvf-pm/K562/leave-one-out/BlueSTARR/GR-AP1/ref_seq.py \\\n",
    "/datacommons/igvf-pm/K562/leave-one-out/data-normalized/ /hpc/home/rv103/revathy/BlueSTARR/test/data/ref_seq/"
   ]
  },
  {
   "cell_type": "code",
   "execution_count": 9,
   "id": "0a99f828-9218-46ee-a839-a9d75d341896",
   "metadata": {},
   "outputs": [
    {
     "name": "stdout",
     "output_type": "stream",
     "text": [
      "Overwriting /hpc/home/rv103/revathy/BlueSTARR/test/scripts/K562-test-variants-ref.q\n"
     ]
    }
   ],
   "source": [
    "%%writefile /hpc/home/rv103/revathy/BlueSTARR/test/scripts/K562-test-variants-ref.q\n",
    "#!/bin/sh\n",
    "#\n",
    "#SBATCH --get-user-env\n",
    "#SBATCH -J test_variant\n",
    "#SBATCH --mail-user=rv103@duke.edu\n",
    "#SBATCH --mail-type=END,FAIL\n",
    "#SBATCH --gres=gpu:1\n",
    "#SBATCH -p majoroslab-gpu,scavenger-gpu\n",
    "#SBATCH --nice=100\n",
    "#SBATCH --mem=102400\n",
    "#SBATCH --cpus-per-task=1\n",
    "#SBATCH -o /hpc/home/rv103/revathy/BlueSTARR/test/logs/K562_test_variant.out\n",
    "#SBATCH -e /hpc/home/rv103/revathy/BlueSTARR/test/logs/K562_test_variant.err\n",
    "#\n",
    "python /datacommons/igvf-pm/K562/leave-one-out/BlueSTARR/test-variants-ref.py \\\n",
    "/datacommons/igvf-pm/K562/full-set/K562 \\\n",
    "/hpc/home/rv103/revathy/BlueSTARR/test/data/ref_seq/chr1-train.txt \\\n",
    "/hpc/home/rv103/revathy/BlueSTARR/test/data/K562/ref_score/chr1.txt"
   ]
  },
  {
   "cell_type": "code",
   "execution_count": 2,
   "id": "9cd0aa3b-a7c7-4d2c-9a44-f290812ce9f5",
   "metadata": {},
   "outputs": [
    {
     "name": "stdout",
     "output_type": "stream",
     "text": [
      "/hpc/home/rv103/revathy/BlueSTARR/test/data/ref_seq/chr1-test.txt\n",
      "/hpc/home/rv103/revathy/BlueSTARR/test/data/ref_seq/chr1-train.txt\n"
     ]
    }
   ],
   "source": [
    "!ls /hpc/home/rv103/revathy/BlueSTARR/test/data/ref_seq/chr1-*"
   ]
  },
  {
   "cell_type": "code",
   "execution_count": 10,
   "id": "aed49027-6544-4c9c-a4d7-53c88aadbf20",
   "metadata": {},
   "outputs": [
    {
     "name": "stdout",
     "output_type": "stream",
     "text": [
      "ls: cannot access '/datacommons/igvf-pm/K562/full-set/K562': No such file or directory\n"
     ]
    }
   ],
   "source": [
    "!ls /datacommons/igvf-pm/K562/full-set/K562"
   ]
  },
  {
   "cell_type": "code",
   "execution_count": 12,
   "id": "a3fed9b8-42e6-4e19-a81d-ed886972fd24",
   "metadata": {},
   "outputs": [
    {
     "name": "stdout",
     "output_type": "stream",
     "text": [
      "231678 /hpc/home/rv103/revathy/BlueSTARR/test/data/ref_seq/chr1-train.txt\n"
     ]
    }
   ],
   "source": [
    "!wc -l /hpc/home/rv103/revathy/BlueSTARR/test/data/ref_seq/chr1-train.txt"
   ]
  },
  {
   "cell_type": "markdown",
   "id": "a5a53e46-eb26-436c-b8c7-eb3d05338acb",
   "metadata": {},
   "source": [
    "### Modify enhancer_seq.py for positioning GATA motif in the 1/3rd, 1/2 and 2/3rd positions of the background sequences\n"
   ]
  },
  {
   "cell_type": "code",
   "execution_count": 16,
   "id": "71b4aab2-95a1-46ee-8705-bf3bb85b74d8",
   "metadata": {},
   "outputs": [
    {
     "name": "stdout",
     "output_type": "stream",
     "text": [
      "Overwriting /hpc/home/rv103/revathy/BlueSTARR/test/scripts/K562_GATA_enhancer_seq.py\n"
     ]
    }
   ],
   "source": [
    "%%writefile /hpc/home/rv103/revathy/BlueSTARR/test/scripts/K562_GATA_enhancer_seq.py\n",
    "import pandas as pd\n",
    "import numpy as np\n",
    "import sys\n",
    "import os\n",
    "\n",
    "### generate enhancer sequence by chromosome and save as the format of test-variant.py input file\n",
    "\n",
    "### forward and backward sequence for GATA1 motif \n",
    "\n",
    "forward_gata1 = 'ACAGATAAGA' \n",
    "backward_gata1 = 'TCTTATCTGT'\n",
    "\n",
    "### distance where the GATA1 motif need to be inserted in the background sequence\n",
    "\n",
    "distance = [150]\n",
    "    \n",
    "def gen_seq(gata1,df):\n",
    "    ls_loc = []\n",
    "    ls_score = []\n",
    "    ls_seq = []\n",
    "    ls_ref = []\n",
    "    ls_allele = []\n",
    "\n",
    "    for i in range(len(df)):\n",
    "        seq = df.loc[i,'sequence']\n",
    "        \n",
    "        for j in range(len(distance)):\n",
    "            ls_loc.append(df.loc[i,'location'])\n",
    "            ls_score.append(df.loc[i,'refScore'])\n",
    "            seq_tmp = seq[:distance[j]-1]+forward_gata1+seq[distance[j]+len(forward_gata1)-1:]\n",
    "            if len(seq_tmp)!=300:\n",
    "                raise Exception('length error')\n",
    "            ls_seq.append(seq_tmp)\n",
    "            ls_ref.append('ref='+seq_tmp[distance[j]])\n",
    "            ls_allele.append(seq_tmp[distance[j]])\n",
    "\n",
    "    return pd.DataFrame({'location':ls_loc,\n",
    "                         'ref':ls_ref,\n",
    "                         'allele':ls_allele,\n",
    "                         'sequence':ls_seq,\n",
    "                         'ref_score':ls_score\n",
    "                         })\n",
    "\n",
    "\n",
    "def main(ref_seq_dir,output_dir,num_seq):\n",
    "\n",
    "    ref_seq_files = [f for f in os.listdir(ref_seq_dir) if f.endswith('.txt')]\n",
    "    for ref_seq in ref_seq_files:\n",
    "        chromosome = ref_seq.split('.')[0]\n",
    "\n",
    "        df = pd.read_csv(ref_seq_dir+'/'+ref_seq, sep='\\t', header=None)\n",
    "        df.columns = ['location','refScore','sequence']\n",
    "        df = df.sort_values(by = 'refScore')\n",
    "        df = df.reset_index(drop = True)\n",
    "        df = df.iloc[:num_seq,:]\n",
    "\n",
    "        gen_seq(forward_gata1,df).to_csv(output_dir+'/'+chromosome+'-f-150-gata1.txt', sep = '\\t', header = None, index = False)\n",
    "        gen_seq(backward_gata1,df).to_csv(output_dir+'/'+chromosome+'-b-150-gata1.txt', sep = '\\t', header = None, index = False)\n",
    "#         gen_seq(backward_ap1,forward_gr,df,start).to_csv(output_dir+'/'+chromosome+'-b-ap1-f-gr.txt', sep = '\\t', header = None, index = False)\n",
    "#         gen_seq(backward_ap1,backward_gr,df,start).to_csv(output_dir+'/'+chromosome+'-b-ap1-b-gr.txt', sep = '\\t', header = None, index = False)\n",
    "\n",
    "if(len(sys.argv)!=4):\n",
    "    exit(ProgramName.get()+\" <ref_seq_score_dir> <output_dir> <num_seq> \\n\")\n",
    "(ref_seq_dir, output_dir, num_seq)=sys.argv[1:]\n",
    "main(ref_seq_dir, output_dir, int(num_seq))"
   ]
  },
  {
   "cell_type": "code",
   "execution_count": 17,
   "id": "b646b2ab-ec40-4f0a-931d-ad0a5fb64195",
   "metadata": {},
   "outputs": [
    {
     "name": "stdout",
     "output_type": "stream",
     "text": [
      "Overwriting /hpc/home/rv103/revathy/BlueSTARR/test/scripts/K562_enhancer-seq.q\n"
     ]
    }
   ],
   "source": [
    "%%writefile /hpc/home/rv103/revathy/BlueSTARR/test/scripts/K562_enhancer-seq.q\n",
    "#!/bin/sh\n",
    "#\n",
    "#SBATCH --get-user-env\n",
    "#SBATCH -J enhancer_seq\n",
    "#SBATCH --mail-user=rv103@duke.edu\n",
    "#SBATCH --mail-type=END,FAIL\n",
    "#SBATCH --gres=gpu:1\n",
    "#SBATCH -p majoroslab-gpu,scavenger-gpu\n",
    "#SBATCH --nice=100\n",
    "#SBATCH --mem=102400\n",
    "#SBATCH --cpus-per-task=1\n",
    "#SBATCH -o /hpc/home/rv103/revathy/BlueSTARR/test/logs/enhancer_seq.out\n",
    "#SBATCH -e /hpc/home/rv103/revathy/BlueSTARR/test/logs/enhancer_seq.err\n",
    "#\n",
    "python /hpc/home/rv103/revathy/BlueSTARR/test/scripts/K562_GATA_enhancer_seq.py \\\n",
    "/hpc/home/rv103/revathy/BlueSTARR/test/data/K562/ref_score \\\n",
    "/hpc/home/rv103/revathy/BlueSTARR/test/data/K562/generated-seq 3000 "
   ]
  },
  {
   "cell_type": "markdown",
   "id": "cfc64a5e-efbf-448d-b1b2-cd7757527505",
   "metadata": {},
   "source": [
    "### Modify test_variants-fc.py for testing the mutated sequences to the background sequences"
   ]
  },
  {
   "cell_type": "code",
   "execution_count": 8,
   "id": "4a7137f0-a986-45b8-bb4a-83152b28a766",
   "metadata": {},
   "outputs": [
    {
     "name": "stdout",
     "output_type": "stream",
     "text": [
      "Overwriting /hpc/home/rv103/revathy/BlueSTARR/test/scripts/K562_test-variants-fc.py\n"
     ]
    }
   ],
   "source": [
    "%%writefile /hpc/home/rv103/revathy/BlueSTARR/test/scripts/K562_test-variants-fc.py\n",
    "#!/usr/bin/env python\n",
    "#========================================================================\n",
    "# BlueSTARR Version 0.1\n",
    "#\n",
    "# Adapted from DeepSTARR by Bill Majoros (bmajoros@alumni.duke.edu)\n",
    "#\n",
    "#========================================================================\n",
    "import gc\n",
    "import gzip\n",
    "import time\n",
    "import math\n",
    "import tensorflow as tf\n",
    "import keras\n",
    "import keras.layers as kl\n",
    "from keras.layers import Conv1D, MaxPooling1D, AveragePooling1D\n",
    "from keras.layers import Dropout, Reshape, Dense, Activation, Flatten\n",
    "from keras.layers import BatchNormalization, InputLayer, Input, LSTM, GRU, Bidirectional, Add, Concatenate, LayerNormalization, MultiHeadAttention\n",
    "import keras_nlp\n",
    "from keras_nlp.layers import SinePositionEncoding\n",
    "from keras import models\n",
    "from keras.models import Sequential, Model\n",
    "from keras.optimizers import Adam\n",
    "from keras.callbacks import EarlyStopping, History, ModelCheckpoint\n",
    "import keras.backend as backend\n",
    "from keras.backend import int_shape\n",
    "import pandas as pd\n",
    "import numpy as np\n",
    "import ProgramName\n",
    "import sys\n",
    "import IOHelper\n",
    "import SequenceHelper\n",
    "import random\n",
    "from scipy import stats\n",
    "from sklearn.metrics import mean_squared_error\n",
    "from scipy.stats import spearmanr\n",
    "from NeuralConfig import NeuralConfig\n",
    "from Rex import Rex\n",
    "rex=Rex()\n",
    "\n",
    "\n",
    "#========================================================================\n",
    "#                                GLOBALS\n",
    "#========================================================================\n",
    "config=None\n",
    "NUM_DNA=None # number of DNA replicates\n",
    "NUM_RNA=None # number of RNA replicates\n",
    "#RANDOM_SEED=1234\n",
    "ALPHA={\"A\":0,\"C\":1,\"G\":2,\"T\":3}\n",
    "BATCH_SIZE=1\n",
    "\n",
    "#=========================================================================\n",
    "#                                main()\n",
    "#=========================================================================\n",
    "def main(infile,modelFilestem1,output_dir):\n",
    "    #startTime=time.time()\n",
    "\n",
    "    # Load model-DMSO\n",
    "    model1=None\n",
    "    with open(modelFilestem1+'.json', \"r\") as json_file:\n",
    "        model_json=json_file.read()\n",
    "        model_json = keras.saving.serialize_keras_object(model_json)\n",
    "        model1 = tf.keras.models.model_from_json(model_json)\n",
    "        model1.load_weights(modelFilestem1+'.h5')\n",
    " \n",
    "     # Load model-Dex\n",
    "#     model2=None\n",
    "#     with open(modelFilestem2+'.json', \"r\") as json_file:\n",
    "#         model_json=json_file.read()\n",
    "#         model_json = keras.saving.serialize_keras_object(model_json)\n",
    "#         model2 = tf.keras.models.model_from_json(model_json)\n",
    "#         model2.load_weights(modelFilestem2+'.h5')\n",
    "\n",
    "    # Load data\n",
    "    IN=open(infile,\"rt\")\n",
    "    with open(output_dir,\"w\") as file:\n",
    "        for line in IN:\n",
    "            fields=line.rstrip().split()\n",
    "            # if(len(fields)<6): continue\n",
    "            ID=fields[0]; ref=fields[1]; ref_score=fields[4]\n",
    "            \n",
    "            if(not rex.find(\"ref=(.)\",ref)):\n",
    "                raise Exception(\"Can't parse ref: \"+ref)\n",
    "            ref=rex[1]\n",
    "            #alleles=[fields[2],fields[4],fields[6],fields[8]]\n",
    "            #seqs=[fields[3],fields[5],fields[7],fields[9]]\n",
    "            alleles=[]; seqs=[]\n",
    "            i=2\n",
    "            while(i<len(fields)-2):\n",
    "                alleles.append(fields[i])\n",
    "                seqs.append(fields[i+1])\n",
    "                seq = fields[i+1]\n",
    "                i+=2\n",
    "            Y1=[]\n",
    "#             Y2=[]\n",
    "            for seq in seqs:\n",
    "                X=oneHot(seq)\n",
    "                X=X.reshape((1,X.shape[0],X.shape[1]))\n",
    "                pred1=model1.predict(X,batch_size=1,verbose=0)\n",
    "                Y1.append(pred1[0][0][0])\n",
    "\n",
    "#                 pred2=model2.predict(X,batch_size=1,verbose=0)\n",
    "#                 Y2.append(pred2[0][0][0])\n",
    "                del X\n",
    "            recs1=getScores(ref,alleles,Y1)\n",
    "#             recs2=getScores(ref,alleles,Y2)\n",
    "            line=[ID]\n",
    "            # for rec in recs: line.extend([str(x) for x in rec])\n",
    "            for rec in recs1: line.append(str(rec))\n",
    "#             for rec in recs2: line.append(str(rec))\n",
    "            line.append(seq); line.append(ref_score)\n",
    "            # print(\"\\t\".join(line))\n",
    "            file.write(\"\\t\".join(line)+'\\n')\n",
    "            del recs1; del fields; del line; del Y1; del seqs; del alleles\n",
    "            del ref; del ID\n",
    "            gc.collect()\n",
    "\n",
    "    # Report elapsed time\n",
    "    #endTime=time.time()\n",
    "    #seconds=endTime-startTime\n",
    "    #minutes=seconds/60\n",
    "    #print(\"Elapsed time:\",round(minutes,2),\"minutes\")\n",
    "\n",
    "#========================================================================\n",
    "#                               FUNCTIONS\n",
    "#========================================================================\n",
    "def oneHot(seq):\n",
    "    L=len(seq)\n",
    "    X=np.zeros((L,4))\n",
    "    for i in range(L):\n",
    "        c=seq[i]\n",
    "        cat=ALPHA.get(c,-1)\n",
    "        if(cat>=0): X[i,cat]=1\n",
    "    return X\n",
    "\n",
    "def findRef(ref,alleles):\n",
    "    n=len(alleles)\n",
    "    for i in range(n):\n",
    "        if(alleles[i]==ref): return i\n",
    "    raise Exception(\"Can't find ref allele\")\n",
    "\n",
    "def getScores(ref,alleles,scores):\n",
    "    r=findRef(ref,alleles)\n",
    "    refScore=scores[r]\n",
    "    n=len(alleles)\n",
    "    recs=[]\n",
    "    # modified to return reference score\n",
    "    recs.append(refScore)\n",
    "    # for i in range(n):\n",
    "    #     if(i==r): continue\n",
    "    #     log2FC=scores[i]-refScore\n",
    "    #     log2FC=round(log2FC,2)\n",
    "    #     rec=[alleles[i],log2FC]\n",
    "    #     recs.append(refScore)\n",
    "    return recs\n",
    "\n",
    "#=========================================================================\n",
    "#                         Command Line Interface\n",
    "#=========================================================================\n",
    "if(len(sys.argv)!=4):\n",
    "    exit(ProgramName.get()+\" <model-filestem1> <data> <output-dir>\\n\")\n",
    "(modelFilestem1,infile,output_dir)=sys.argv[1:]\n",
    "main(infile,modelFilestem1,output_dir)\n",
    "\n"
   ]
  },
  {
   "cell_type": "code",
   "execution_count": 18,
   "id": "536b0e8b-1319-4bf9-8255-53018a4d40e0",
   "metadata": {},
   "outputs": [
    {
     "name": "stdout",
     "output_type": "stream",
     "text": [
      "Overwriting /hpc/home/rv103/revathy/BlueSTARR/test/scripts/K562_logfc.q\n"
     ]
    }
   ],
   "source": [
    "%%writefile /hpc/home/rv103/revathy/BlueSTARR/test/scripts/K562_logfc.q\n",
    "#!/bin/sh\n",
    "#\n",
    "#SBATCH --get-user-env\n",
    "#SBATCH -J logfc\n",
    "#SBATCH --mail-user=rv103@duke.edu\n",
    "#SBATCH --mail-type=END,FAIL\n",
    "#SBATCH --gres=gpu:1\n",
    "#SBATCH -p majoroslab-gpu,scavenger-gpu\n",
    "#SBATCH --nice=100\n",
    "#SBATCH --mem=102400\n",
    "#SBATCH --cpus-per-task=1\n",
    "#SBATCH -o /hpc/home/rv103/revathy/BlueSTARR/test/logs/K562_logfc.out\n",
    "#SBATCH -e /hpc/home/rv103/revathy/BlueSTARR/test/logs/K562_logfc.err\n",
    "#\n",
    "python /hpc/home/rv103/revathy/BlueSTARR/test/scripts/K562_test-variants-fc.py  \\\n",
    "/datacommons/igvf-pm/K562/full-set/K562 \\\n",
    "/hpc/home/rv103/revathy/BlueSTARR/test/data/K562/generated-seq/chr1-f-gata1.txt \\\n",
    "/hpc/home/rv103/revathy/BlueSTARR/test/data/K562/logfc/chr1-f-gata1-fc.txt"
   ]
  },
  {
   "cell_type": "markdown",
   "id": "e85fb564-9f28-485a-bd64-2794bf2831ee",
   "metadata": {},
   "source": [
    "### Reference_score trend for background sequences, mutated sequences and their logFC"
   ]
  },
  {
   "cell_type": "code",
   "execution_count": 10,
   "id": "1f3e5347-82e4-4db1-84a2-9fc48073f5d5",
   "metadata": {
    "tags": []
   },
   "outputs": [
    {
     "data": {
      "text/plain": [
       "<Figure size 576x576 with 0 Axes>"
      ]
     },
     "metadata": {},
     "output_type": "display_data"
    },
    {
     "data": {
      "image/png": "[encoded data removed]",
      "text/plain": [
       "<Figure size 720x576 with 1 Axes>"
      ]
     },
     "metadata": {},
     "output_type": "display_data"
    }
   ],
   "source": [
    "import pandas as pd\n",
    "import seaborn as sns\n",
    "import matplotlib.pyplot as plt\n",
    "plt.figure(figsize=(8,8))\n",
    "\n",
    "sns.set_style(\"ticks\", {\"xtick.major.size\": 8, \"ytick.major.size\": 8})\n",
    "sns.set_context(\"talk\", font_scale=0.8)\n",
    "\n",
    "background_seq = pd.read_csv('/hpc/home/rv103/revathy/BlueSTARR/test/data/K562/generated-seq/chr1-f-gata1.txt', sep='\\t', \n",
    "                 names=['location','ref','allele','sequence','ref_score'])\n",
    "mutated_seq = pd.read_csv('/hpc/home/rv103/revathy/BlueSTARR/test/data/K562/logfc/chr1-f-gata1-fc.txt', sep='\\t', \n",
    "                 names=['location','ref_score','sequence','background_ref_score'])\n",
    "\n",
    "mutated_seq['logFC'] = mutated_seq['ref_score'] - mutated_seq['background_ref_score']\n",
    "mutated_seq['position'] = np.repeat([100,150,200],200)\n",
    "\n",
    "plt.figure(figsize=(10,8))\n",
    "plt.hist(background_seq['ref_score'], density=True, bins=100, alpha=0.5,  color='blue', label=\"background_sequences\")\n",
    "plt.hist(mutated_seq['ref_score'], density=True, bins=100, alpha=0.5, color='red', label=\"mutated_sequences\")\n",
    "# plt.hist(mutated_seq['logFC'], density=True, bins=100, alpha=0.5,  color='green', label=\"logFC\")\n",
    "sns.kdeplot(background_seq['ref_score'], color='darkblue')\n",
    "sns.kdeplot(mutated_seq['ref_score'], color='darkred')\n",
    "# sns.kdeplot(mutated_seq['logFC'], color='green')\n",
    "plt.xlabel(\"Reference Scores\", size=14)\n",
    "plt.ylabel(\"Density\", size=14)\n",
    "plt.legend(loc='upper right')\n",
    "sns.despine()\n",
    "plt.show()"
   ]
  },
  {
   "cell_type": "code",
   "execution_count": 17,
   "id": "74244377-1aa9-4290-bba7-aed6b587f801",
   "metadata": {},
   "outputs": [
    {
     "data": {
      "image/png": "[encoded data removed]",
      "text/plain": [
       "<Figure size 432x432 with 1 Axes>"
      ]
     },
     "metadata": {},
     "output_type": "display_data"
    }
   ],
   "source": [
    "import seaborn as sns\n",
    "import matplotlib.pyplot as plt\n",
    "plt.figure(figsize=(6,6))\n",
    "\n",
    "sns.set_style(\"ticks\", {\"xtick.major.size\": 8, \"ytick.major.size\": 8})\n",
    "sns.set_context(\"talk\", font_scale=0.8)\n",
    "\n",
    "# mutated_seq_with_score['bp'] = mutated_seq_with_score['bp_position'].astype(str) + '_' + mutated_seq_with_score['bp_nucleotide']\n",
    "\n",
    "sns.boxplot(data=mutated_seq, x=\"position\", y=\"logFC\", color='grey')\n",
    "\n",
    "plt.ylim(-0.1,0.1)\n",
    "plt.tight_layout()  \n",
    "sns.despine()\n",
    "plt.show()\n"
   ]
  },
  {
   "cell_type": "markdown",
   "id": "76729bea-de19-40ec-b195-e72dfe3d77c9",
   "metadata": {},
   "source": [
    "### Inference from inserting GATA1 motif at positions 100, 150 and 200 in the background sequence:\n",
    "\n",
    "As expected, there weren't any significant differences between insering GATA motif in various positions in the background sequence. Also, not much change happened when the background sequence was mutated with GATA. Upon calculating the log2FC as log(mutated_seq_score)-log(background_seq_score), the range of values were in between -0.1 and 0.1 with maximum density at 0.0 indicating that for most of the mutated sequences, the mutation had very less or no effect. \n",
    "\n",
    "As next step, take the GATA mutated at position 150 as the background sequence/reference sequence. Then mutate each base of GATA and then calculate logFCs for every mutated base pair"
   ]
  },
  {
   "cell_type": "markdown",
   "id": "74bb01cd-f1b7-4c12-8fa4-3e6c95b6ffd0",
   "metadata": {},
   "source": [
    "Generated 600 sequences with GATA at the 150th position to be used as reference sequence by modifying the K562_GATA_enhancer_seq.py for distance = [150]. The sequences are chr1-b-150-gata1.txt and chr1-f-150-gata1.txt. \n",
    "\n",
    "Also run the K562_test-variants-fc.py to generate the mutated_seq reference scores the new sequences. "
   ]
  },
  {
   "cell_type": "code",
   "execution_count": 20,
   "id": "eedf302a-6c5c-4b3c-a37e-2ab9cb8bcf03",
   "metadata": {},
   "outputs": [
    {
     "name": "stdout",
     "output_type": "stream",
     "text": [
      "Overwriting /hpc/home/rv103/revathy/BlueSTARR/test/scripts/K562_150_GATA_logfc.q\n"
     ]
    }
   ],
   "source": [
    "%%writefile /hpc/home/rv103/revathy/BlueSTARR/test/scripts/K562_150_GATA_logfc.q\n",
    "#!/bin/sh\n",
    "#\n",
    "#SBATCH --get-user-env\n",
    "#SBATCH -J logfc\n",
    "#SBATCH --mail-user=rv103@duke.edu\n",
    "#SBATCH --mail-type=END,FAIL\n",
    "#SBATCH --gres=gpu:1\n",
    "#SBATCH -p majoroslab-gpu,scavenger-gpu\n",
    "#SBATCH --nice=100\n",
    "#SBATCH --mem=102400\n",
    "#SBATCH --cpus-per-task=1\n",
    "#SBATCH -o /hpc/home/rv103/revathy/BlueSTARR/test/logs/K562_150_GATA_logfc.out\n",
    "#SBATCH -e /hpc/home/rv103/revathy/BlueSTARR/test/logs/K562_150_GATA_logfc.err\n",
    "#\n",
    "python /hpc/home/rv103/revathy/BlueSTARR/test/scripts/K562_test-variants-fc.py  \\\n",
    "/datacommons/igvf-pm/K562/full-set/K562 \\\n",
    "/hpc/home/rv103/revathy/BlueSTARR/test/data/K562/generated-seq/chr1-f-150-gata1.txt \\\n",
    "/hpc/home/rv103/revathy/BlueSTARR/test/data/K562/logfc/chr1-f-150-gata1-fc.txt"
   ]
  },
  {
   "cell_type": "code",
   "execution_count": 29,
   "id": "2e4aa741-305d-47f7-8996-6b35f78e5527",
   "metadata": {},
   "outputs": [
    {
     "name": "stdout",
     "output_type": "stream",
     "text": [
      "900 /hpc/home/rv103/revathy/BlueSTARR/test/data/K562/logfc/chr1-f-150-gata1-fc.txt\n"
     ]
    }
   ],
   "source": [
    "!wc -l /hpc/home/rv103/revathy/BlueSTARR/test/data/K562/logfc/chr1-f-150-gata1-fc.txt"
   ]
  },
  {
   "cell_type": "markdown",
   "id": "90597d85-9a37-4390-ad43-1f6197083274",
   "metadata": {
    "tags": []
   },
   "source": [
    "#### Modify enhancer_seq.py for positioning various mutants of the GATA motif in position 150 of the background sequences along with the positioning of the motif at various positions\n"
   ]
  },
  {
   "cell_type": "code",
   "execution_count": 20,
   "id": "22348652-dcdc-4b62-b60f-c2f130a6c56b",
   "metadata": {},
   "outputs": [
    {
     "name": "stdout",
     "output_type": "stream",
     "text": [
      "Overwriting /hpc/home/rv103/revathy/BlueSTARR/test/scripts/K562_GATA_mutate_enhancer_seq.py\n"
     ]
    }
   ],
   "source": [
    "%%writefile /hpc/home/rv103/revathy/BlueSTARR/test/scripts/K562_GATA_mutate_enhancer_seq.py\n",
    "import pandas as pd\n",
    "import numpy as np\n",
    "import sys\n",
    "import os\n",
    "\n",
    "### generate enhancer sequence by chromosome and save as the format of test-variant.py input file\n",
    "\n",
    "### forward and backward sequence for GATA1 motif \n",
    "\n",
    "forward_gata1 = 'ACAGATAAGA' \n",
    "backward_gata1 = 'TCTTATCTGT'\n",
    "\n",
    "### distance where the GATA1 motif need to be inserted in the background sequence\n",
    "\n",
    "distance = 150\n",
    "\n",
    "# step = 1\n",
    "# distance = np.arange(8, 278, step)\n",
    "# step = 20\n",
    "# distance = np.arange(23, 244, step)\n",
    "\n",
    "def mut_seq(seq):\n",
    "    bp = ['A','G','C','T']\n",
    "    new_seq = []\n",
    "    for i in range(len(seq)):\n",
    "        for j in range(len(bp)):\n",
    "            if seq[i]!=bp[j]:\n",
    "                new_seq.append(seq[:i]+ bp[j]+seq[i+1:])\n",
    "            else:\n",
    "                continue\n",
    "                \n",
    "    return new_seq\n",
    "    \n",
    "\n",
    "def mut_gen_seq(gata1,df):\n",
    "    ls_loc = []\n",
    "    ls_score = []\n",
    "    ls_seq = []\n",
    "    ls_ref = []\n",
    "    ls_allele = []\n",
    "    new_seq = mut_seq(gata1)\n",
    "\n",
    "    for i in range(len(df)):\n",
    "        seq = df.loc[i,'sequence']\n",
    "        \n",
    "        for j in range(len(new_seq)):\n",
    "            ls_loc.append(df.loc[i,'location'])\n",
    "            ls_score.append(df.loc[i,'refScore'])\n",
    "            seq_tmp = seq[:distance-1]+new_seq[j]+seq[distance+len(new_seq[j])-1:]\n",
    "            if len(seq_tmp)!=300:\n",
    "                raise Exception('length error')\n",
    "            ls_seq.append(seq_tmp)\n",
    "            ls_ref.append('ref='+seq_tmp[distance])\n",
    "            ls_allele.append(seq_tmp[distance])\n",
    "\n",
    "    return pd.DataFrame({'location':ls_loc,\n",
    "                         'ref':ls_ref,\n",
    "                         'allele':ls_allele,\n",
    "                         'sequence':ls_seq,\n",
    "                         'ref_score':ls_score\n",
    "                         })\n",
    "\n",
    "def main(ref_seq_dir,output_dir,num_seq):\n",
    "\n",
    "    ref_seq_files = [f for f in os.listdir(ref_seq_dir) if f.endswith('.txt')]\n",
    "    for ref_seq in ref_seq_files:\n",
    "        chromosome = ref_seq.split('.')[0]\n",
    "\n",
    "        df = pd.read_csv(ref_seq_dir+'/'+ref_seq, sep='\\t', header=None)\n",
    "        df.columns = ['location','refScore','sequence']\n",
    "        df = df.sort_values(by = 'refScore')\n",
    "        df = df.reset_index(drop = True)\n",
    "        df = df.iloc[:num_seq,:]\n",
    "\n",
    "#         gen_seq(forward_gata1,df).to_csv(output_dir+'/'+chromosome+'-f-gata1.txt', sep = '\\t', header = None, index = False)\n",
    "#         gen_seq(backward_gata1,df).to_csv(output_dir+'/'+chromosome+'-b-gata1.txt', sep = '\\t', header = None, index = False)\n",
    "        \n",
    "        mut_gen_seq(forward_gata1,df).to_csv(output_dir+'/'+chromosome+'-f-mut-150-gata1.txt', sep = '\\t', header = None, index = False)\n",
    "        mut_gen_seq(backward_gata1,df).to_csv(output_dir+'/'+chromosome+'-b-mut-150-gata1.txt', sep = '\\t', header = None, index = False)\n",
    "\n",
    "\n",
    "if(len(sys.argv)!=4):\n",
    "    exit(ProgramName.get()+\" <ref_seq_score_dir> <output_dir> <num_seq> \\n\")\n",
    "(ref_seq_dir, output_dir, num_seq)=sys.argv[1:]\n",
    "main(ref_seq_dir, output_dir, int(num_seq))"
   ]
  },
  {
   "cell_type": "code",
   "execution_count": 4,
   "id": "12c399e8-c0b3-4e72-8a95-2b90c916516a",
   "metadata": {},
   "outputs": [
    {
     "name": "stdout",
     "output_type": "stream",
     "text": [
      "Overwriting /hpc/home/rv103/revathy/BlueSTARR/test/scripts/K562_mutate_enhancer-seq.q\n"
     ]
    }
   ],
   "source": [
    "%%writefile /hpc/home/rv103/revathy/BlueSTARR/test/scripts/K562_mutate_enhancer-seq.q\n",
    "#!/bin/sh\n",
    "#\n",
    "#SBATCH --get-user-env\n",
    "#SBATCH -J enhancer_seq\n",
    "#SBATCH --mail-user=rv103@duke.edu\n",
    "#SBATCH --mail-type=END,FAIL\n",
    "#SBATCH --gres=gpu:1\n",
    "#SBATCH -p majoroslab-gpu,scavenger-gpu\n",
    "#SBATCH --nice=100\n",
    "#SBATCH --mem=102400\n",
    "#SBATCH --cpus-per-task=1\n",
    "#SBATCH -o /hpc/home/rv103/revathy/BlueSTARR/test/logs/enhancer_seq.out\n",
    "#SBATCH -e /hpc/home/rv103/revathy/BlueSTARR/test/logs/enhancer_seq.err\n",
    "#\n",
    "python /hpc/home/rv103/revathy/BlueSTARR/test/scripts/K562_GATA_mutate_enhancer_seq.py \\\n",
    "/hpc/home/rv103/revathy/BlueSTARR/test/data/K562/ref_score \\\n",
    "/hpc/home/rv103/revathy/BlueSTARR/test/data/K562/generated-seq 100 "
   ]
  },
  {
   "cell_type": "code",
   "execution_count": 21,
   "id": "fdfb9cc3-f2cf-4993-a855-166ffbda2c12",
   "metadata": {},
   "outputs": [
    {
     "name": "stdout",
     "output_type": "stream",
     "text": [
      "   3000 /hpc/home/rv103/revathy/BlueSTARR/test/data/K562/generated-seq/chr1-b-mut-150-gata1.txt\n",
      "   3000 /hpc/home/rv103/revathy/BlueSTARR/test/data/K562/generated-seq/chr1-f-mut-150-gata1.txt\n",
      "   6000 total\n"
     ]
    }
   ],
   "source": [
    "!wc -l /hpc/home/rv103/revathy/BlueSTARR/test/data/K562/generated-seq/*mut-150*"
   ]
  },
  {
   "cell_type": "markdown",
   "id": "c27a8a82-33a4-48c9-84c8-b115b28f36dc",
   "metadata": {},
   "source": [
    "#### Run the K562_test-variants-fc.py for the chr1-f-mut-150-gata1.txt file & chr1-b-mut-150-gata1.txt"
   ]
  },
  {
   "cell_type": "code",
   "execution_count": 29,
   "id": "056228f2-4f6a-4f90-9e2b-b76b295ea82a",
   "metadata": {},
   "outputs": [
    {
     "name": "stdout",
     "output_type": "stream",
     "text": [
      "Overwriting /hpc/home/rv103/revathy/BlueSTARR/test/scripts/K562_150_GATA_mut_logfc.q\n"
     ]
    }
   ],
   "source": [
    "%%writefile /hpc/home/rv103/revathy/BlueSTARR/test/scripts/K562_150_GATA_mut_logfc.q\n",
    "#!/bin/sh\n",
    "#\n",
    "#SBATCH --get-user-env\n",
    "#SBATCH -J logfc\n",
    "#SBATCH --mail-user=rv103@duke.edu\n",
    "#SBATCH --mail-type=END,FAIL\n",
    "#SBATCH --gres=gpu:1\n",
    "#SBATCH -p majoroslab-gpu,scavenger-gpu\n",
    "#SBATCH --nice=100\n",
    "#SBATCH --mem=102400\n",
    "#SBATCH --cpus-per-task=1\n",
    "#SBATCH -o /hpc/home/rv103/revathy/BlueSTARR/test/logs/K562_150_GATA_mut_logfc.out\n",
    "#SBATCH -e /hpc/home/rv103/revathy/BlueSTARR/test/logs/K562_150_GATA_mut_logfc.err\n",
    "#\n",
    "python /hpc/home/rv103/revathy/BlueSTARR/test/scripts/K562_test-variants-fc.py  \\\n",
    "/datacommons/igvf-pm/K562/full-set/K562 \\\n",
    "/hpc/home/rv103/revathy/BlueSTARR/test/data/K562/generated-seq/chr1-b-mut-150-gata1.txt \\\n",
    "/hpc/home/rv103/revathy/BlueSTARR/test/data/K562/logfc/chr1-b-mut-150-gata1-fc.txt"
   ]
  },
  {
   "cell_type": "markdown",
   "id": "aca83a46-7408-496e-839b-43f23567ddd8",
   "metadata": {},
   "source": [
    "#### Forward sequences"
   ]
  },
  {
   "cell_type": "code",
   "execution_count": 9,
   "id": "d052398c-0420-4b9b-b5ff-61dd6f9c8645",
   "metadata": {},
   "outputs": [
    {
     "data": {
      "text/plain": [
       "<Figure size 576x576 with 0 Axes>"
      ]
     },
     "metadata": {},
     "output_type": "display_data"
    },
    {
     "data": {
      "image/png": "[encoded data removed]",
      "text/plain": [
       "<Figure size 720x576 with 1 Axes>"
      ]
     },
     "metadata": {},
     "output_type": "display_data"
    }
   ],
   "source": [
    "import pandas as pd\n",
    "import numpy as np\n",
    "import seaborn as sns\n",
    "import matplotlib.pyplot as plt\n",
    "plt.figure(figsize=(8,8))\n",
    "\n",
    "sns.set_style(\"ticks\", {\"xtick.major.size\": 8, \"ytick.major.size\": 8})\n",
    "sns.set_context(\"talk\", font_scale=0.8)\n",
    "\n",
    "\n",
    "mutated_seq_with_score = pd.read_csv('/hpc/home/rv103/revathy/BlueSTARR/test/data/K562/logfc/chr1-f-mut-150-gata1-fc.txt', sep='\\t', \n",
    "                 names=['location','ref_score','sequence','background_ref_score'])\n",
    "\n",
    "mutated_seq_with_score['logFC'] = mutated_seq_with_score['ref_score'] - mutated_seq_with_score['background_ref_score']\n",
    "mutated_seq_with_score['gata_sequence'] = mutated_seq_with_score['sequence'].str[149:159]\n",
    "mutated_seq_with_score['bp_position'] = np.tile(np.repeat(np.arange(150,160),3),len(mutated_seq_with_score['location'].unique()))\n",
    "mutated_seq_with_score['bp_nucleotide'] = [sequence[bp_position-1] for sequence, bp_position in zip(mutated_seq_with_score['sequence'], mutated_seq_with_score['bp_position'])]\n",
    "mutated_seq_with_score\n",
    "\n",
    "plt.figure(figsize=(10,8))\n",
    "plt.hist(mutated_seq_with_score['background_ref_score'], density=True, bins=100, alpha=0.5,  color='blue', label=\"reference_sequences\")\n",
    "plt.hist(mutated_seq_with_score['ref_score'], density=True, bins=100, alpha=0.5, color='red', label=\"mutated_sequences\")\n",
    "# plt.hist(mutated_seq_with_score['logFC'], density=True, bins=100, alpha=0.5,  color='green', label=\"logFC\")\n",
    "sns.kdeplot(mutated_seq_with_score['background_ref_score'], color='darkblue')\n",
    "sns.kdeplot(mutated_seq_with_score['ref_score'], color='darkred')\n",
    "# sns.kdeplot(mutated_seq_with_score['logFC'], color='green')\n",
    "plt.xlabel(\"Reference Scores\", size=14)\n",
    "plt.ylabel(\"Density\", size=14)\n",
    "plt.legend(loc='upper right')\n",
    "sns.despine()\n",
    "plt.show()"
   ]
  },
  {
   "cell_type": "code",
   "execution_count": 28,
   "id": "712f2286-0855-4bb4-aaa3-150ef83bc898",
   "metadata": {},
   "outputs": [
    {
     "data": {
      "image/png": "[encoded data removed]",
      "text/plain": [
       "<Figure size 1440x432 with 1 Axes>"
      ]
     },
     "metadata": {},
     "output_type": "display_data"
    }
   ],
   "source": [
    "import seaborn as sns\n",
    "import matplotlib.pyplot as plt\n",
    "plt.figure(figsize=(20,6))\n",
    "\n",
    "sns.set_style(\"ticks\", {\"xtick.major.size\": 8, \"ytick.major.size\": 8})\n",
    "sns.set_context(\"talk\", font_scale=0.8)\n",
    "\n",
    "mutated_seq_with_score['bp'] = mutated_seq_with_score['bp_position'].astype(str) + '_' + mutated_seq_with_score['bp_nucleotide']\n",
    "\n",
    "sns.boxplot(data=mutated_seq_with_score, x=\"bp_position\", y=\"logFC\",hue='bp_nucleotide', palette='Paired')\n",
    "plt.legend(loc='upper right',bbox_to_anchor=(1.07, 1))\n",
    "plt.xticks(rotation=60)\n",
    "plt.ylim(-0.15,0.15)\n",
    "plt.tight_layout()  \n",
    "sns.despine()\n",
    "plt.show()"
   ]
  },
  {
   "cell_type": "markdown",
   "id": "6c5d9402-2c2b-413b-88dd-7e0b4c0a929e",
   "metadata": {},
   "source": [
    "#### Backward sequences"
   ]
  },
  {
   "cell_type": "code",
   "execution_count": 33,
   "id": "213f2571-59af-4f3a-8739-265b38a86fd9",
   "metadata": {},
   "outputs": [
    {
     "data": {
      "text/plain": [
       "<Figure size 576x576 with 0 Axes>"
      ]
     },
     "metadata": {},
     "output_type": "display_data"
    },
    {
     "data": {
      "image/png": "[encoded data removed]",
      "text/plain": [
       "<Figure size 720x576 with 1 Axes>"
      ]
     },
     "metadata": {},
     "output_type": "display_data"
    }
   ],
   "source": [
    "import pandas as pd\n",
    "import numpy as np\n",
    "import seaborn as sns\n",
    "import matplotlib.pyplot as plt\n",
    "plt.figure(figsize=(8,8))\n",
    "\n",
    "sns.set_style(\"ticks\", {\"xtick.major.size\": 8, \"ytick.major.size\": 8})\n",
    "sns.set_context(\"talk\", font_scale=0.8)\n",
    "\n",
    "\n",
    "mutated_seq_with_score = pd.read_csv('/hpc/home/rv103/revathy/BlueSTARR/test/data/K562/logfc/chr1-b-mut-150-gata1-fc.txt', sep='\\t', \n",
    "                 names=['location','ref_score','sequence','background_ref_score'])\n",
    "\n",
    "mutated_seq_with_score['logFC'] = mutated_seq_with_score['ref_score'] - mutated_seq_with_score['background_ref_score']\n",
    "mutated_seq_with_score['gata_sequence'] = mutated_seq_with_score['sequence'].str[149:159]\n",
    "mutated_seq_with_score['bp_position'] = np.tile(np.repeat(np.arange(150,160),3),len(mutated_seq_with_score['location'].unique()))\n",
    "mutated_seq_with_score['bp_nucleotide'] = [sequence[bp_position-1] for sequence, bp_position in zip(mutated_seq_with_score['sequence'], mutated_seq_with_score['bp_position'])]\n",
    "mutated_seq_with_score\n",
    "\n",
    "plt.figure(figsize=(10,8))\n",
    "plt.hist(mutated_seq_with_score['background_ref_score'], density=True, bins=100, alpha=0.5,  color='blue', label=\"reference_sequences\")\n",
    "plt.hist(mutated_seq_with_score['ref_score'], density=True, bins=100, alpha=0.5, color='red', label=\"mutated_sequences\")\n",
    "plt.hist(mutated_seq_with_score['logFC'], density=True, bins=100, alpha=0.5,  color='green', label=\"logFC\")\n",
    "sns.kdeplot(mutated_seq_with_score['background_ref_score'], color='darkblue')\n",
    "sns.kdeplot(mutated_seq_with_score['ref_score'], color='darkred')\n",
    "sns.kdeplot(mutated_seq_with_score['logFC'], color='green')\n",
    "plt.xlabel(\"Reference Scores\", size=14)\n",
    "plt.ylabel(\"Density\", size=14)\n",
    "plt.legend(loc='upper right')\n",
    "sns.despine()\n",
    "plt.show()"
   ]
  },
  {
   "cell_type": "code",
   "execution_count": 34,
   "id": "8563bb3f-d29b-4fc7-b6ca-7071fcbebc9e",
   "metadata": {},
   "outputs": [
    {
     "data": {
      "image/png": "[encoded data removed]",
      "text/plain": [
       "<Figure size 1440x432 with 1 Axes>"
      ]
     },
     "metadata": {},
     "output_type": "display_data"
    }
   ],
   "source": [
    "import seaborn as sns\n",
    "import matplotlib.pyplot as plt\n",
    "plt.figure(figsize=(20,6))\n",
    "\n",
    "sns.set_style(\"ticks\", {\"xtick.major.size\": 8, \"ytick.major.size\": 8})\n",
    "sns.set_context(\"talk\", font_scale=0.8)\n",
    "\n",
    "mutated_seq_with_score['bp'] = mutated_seq_with_score['bp_position'].astype(str) + '_' + mutated_seq_with_score['bp_nucleotide']\n",
    "\n",
    "sns.boxplot(data=mutated_seq_with_score, x=\"bp_position\", y=\"logFC\",hue='bp_nucleotide', palette='Paired')\n",
    "plt.legend(loc='upper right',bbox_to_anchor=(1.07, 1))\n",
    "plt.xticks(rotation=60)\n",
    "plt.ylim(-0.15,0.15)\n",
    "plt.tight_layout()  \n",
    "sns.despine()\n",
    "plt.show()"
   ]
  },
  {
   "cell_type": "code",
   "execution_count": null,
   "id": "b97f72c6-0131-4e46-b1a3-e53bcb0c7402",
   "metadata": {},
   "outputs": [],
   "source": []
  },
  {
   "cell_type": "markdown",
   "id": "2c295f6e-22b7-4e20-809c-4cb78ad26acf",
   "metadata": {},
   "source": [
    "## K562 GATA-AP1 interactions"
   ]
  },
  {
   "cell_type": "code",
   "execution_count": 43,
   "id": "032d2daa-a79a-451a-b5b1-e4113bb5ffb6",
   "metadata": {},
   "outputs": [
    {
     "name": "stdout",
     "output_type": "stream",
     "text": [
      "Overwriting /hpc/home/rv103/revathy/BlueSTARR/test/scripts/BlueSTARR/K562_AP1_GATA_enhancer_seq.py\n"
     ]
    }
   ],
   "source": [
    "%%writefile /hpc/home/rv103/revathy/BlueSTARR/test/scripts/BlueSTARR/K562_AP1_GATA_enhancer_seq.py\n",
    "import pandas as pd\n",
    "import numpy as np\n",
    "import sys\n",
    "import os\n",
    "\n",
    "## generate enhancer sequence by chromosome and save as the format of test-variant.py input file\n",
    "\n",
    "forward_ap1 = 'TGAGTCAT'\n",
    "backward_ap1 = 'ATGACTCA'\n",
    "forward_gata = 'ACAGATAAGA' \n",
    "backward_gata = 'TCTTATCTGT'\n",
    "\n",
    "step = 20\n",
    "distance = np.arange(23, 244, step)\n",
    "\n",
    "\n",
    "def gen_seq(ap1,gata,df,start):\n",
    "    ls_loc = []\n",
    "    ls_score = []\n",
    "    ls_distance = []\n",
    "    ls_seq = []\n",
    "    ls_ref = []\n",
    "    ls_allele = []\n",
    "\n",
    "    for i in range(len(df)):\n",
    "        seq = df.loc[i,'sequence']\n",
    "\n",
    "        for j in range(len(distance)):\n",
    "            ls_loc.append(df.loc[i,'location'])\n",
    "            ls_score.append(df.loc[i,'refScore'])\n",
    "            ls_distance.append(distance[j])\n",
    "            # fix ap1, move gata\n",
    "            seq_tmp = seq[:start-1]+ap1+seq[start+len(ap1)-1:start+distance[j]-1]+gata+seq[start+distance[j]-1+len(gata):]\n",
    "            if len(seq_tmp)!=300:\n",
    "                raise Exception('length error')\n",
    "            ls_seq.append(seq_tmp)\n",
    "            # fix gr, move ap1\n",
    "            # ls_seq.append(seq[:start-1]+gr+seq[start+len(gr)-1:start+distance[j]-1]+ap1+seq[start+distance[j]-1+len(ap1):])\n",
    "            ls_ref.append('ref='+seq_tmp[150])\n",
    "            ls_allele.append(seq_tmp[150])\n",
    "\n",
    "\n",
    "    return pd.DataFrame({'location':ls_loc,\n",
    "                         'ref':ls_ref,\n",
    "                         'allele':ls_allele,\n",
    "                         'sequence':ls_seq,\n",
    "                         'distance':ls_distance,\n",
    "                         'score':ls_score\n",
    "                         })\n",
    "\n",
    "\n",
    "\n",
    "def main(ref_seq_dir,output_dir,num_seq,start):\n",
    "\n",
    "    ref_seq_files = [f for f in os.listdir(ref_seq_dir) if f.endswith('.txt')]\n",
    "    for ref_seq in ref_seq_files:\n",
    "        chromosome = ref_seq.split('.')[0]\n",
    "\n",
    "        df = pd.read_csv(ref_seq_dir+'/'+ref_seq, sep='\\t', header=None)\n",
    "        df.columns = ['location','refScore','sequence']\n",
    "        df = df.sort_values(by = 'refScore')\n",
    "        df = df.reset_index(drop = True)\n",
    "        df = df.iloc[:num_seq,:]\n",
    "\n",
    "        gen_seq(forward_ap1,forward_gata,df,start).to_csv(output_dir+'/'+chromosome+'-f-ap1-f-gata.txt', sep = '\\t', header = None, index = False)\n",
    "        gen_seq(forward_ap1,backward_gata,df,start).to_csv(output_dir+'/'+chromosome+'-f-ap1-b-gata.txt', sep = '\\t', header = None, index = False)\n",
    "        gen_seq(backward_ap1,forward_gata,df,start).to_csv(output_dir+'/'+chromosome+'-b-ap1-f-gata.txt', sep = '\\t', header = None, index = False)\n",
    "        gen_seq(backward_ap1,backward_gata,df,start).to_csv(output_dir+'/'+chromosome+'-b-ap1-b-gata.txt', sep = '\\t', header = None, index = False)\n",
    "\n",
    "if(len(sys.argv)!=5):\n",
    "    exit(ProgramName.get()+\" <ref_seq_score_dir> <output_dir> <num_seq> <start_pos_ap1>\\n\")\n",
    "(ref_seq_dir, output_dir, num_seq, start)=sys.argv[1:]\n",
    "main(ref_seq_dir, output_dir, int(num_seq), int(start))"
   ]
  },
  {
   "cell_type": "code",
   "execution_count": 39,
   "id": "7fe30944-9e75-48e4-9c2c-aa3181b9a501",
   "metadata": {},
   "outputs": [
    {
     "name": "stdout",
     "output_type": "stream",
     "text": [
      "Overwriting /hpc/home/rv103/revathy/BlueSTARR/test/scripts/BlueSTARR/K562_AP1_GATA_enhancer_seq.q\n"
     ]
    }
   ],
   "source": [
    "%%writefile /hpc/home/rv103/revathy/BlueSTARR/test/scripts/BlueSTARR/K562_AP1_GATA_enhancer_seq.q\n",
    "#!/bin/sh\n",
    "#\n",
    "#SBATCH --get-user-env\n",
    "#SBATCH -J enhancer_seq\n",
    "#SBATCH --mail-user=rv103@duke.edu\n",
    "#SBATCH --mail-type=END,FAIL\n",
    "#SBATCH --gres=gpu:1\n",
    "#SBATCH -p majoroslab-gpu,scavenger-gpu\n",
    "#SBATCH --nice=100\n",
    "#SBATCH --mem=102400\n",
    "#SBATCH --cpus-per-task=1\n",
    "#SBATCH -o /hpc/home/rv103/revathy/BlueSTARR/test/logs/K562_AP1_GATA_enhancer_seq.out\n",
    "#SBATCH -e /hpc/home/rv103/revathy/BlueSTARR/test/logs/K562_AP1_GATA_enhancer_seq.err\n",
    "#\n",
    "python /hpc/home/rv103/revathy/BlueSTARR/test/scripts/BlueSTARR/K562_AP1_GATA_enhancer_seq.py \\\n",
    "/hpc/home/rv103/revathy/BlueSTARR/test/data/K562/ref_score \\\n",
    "/hpc/home/rv103/revathy/BlueSTARR/test/data/K562/generated-seq 50 10 "
   ]
  },
  {
   "cell_type": "code",
   "execution_count": 1,
   "id": "82776ad0-6f1b-45ee-89f8-df65f73b38a9",
   "metadata": {},
   "outputs": [
    {
     "name": "stdout",
     "output_type": "stream",
     "text": [
      "/hpc/home/rv103/revathy/BlueSTARR/test/data/K562/generated-seq/chr1-b-ap1-b-gata.txt\n",
      "/hpc/home/rv103/revathy/BlueSTARR/test/data/K562/generated-seq/chr1-b-ap1-f-gata.txt\n",
      "/hpc/home/rv103/revathy/BlueSTARR/test/data/K562/generated-seq/chr1-f-ap1-b-gata.txt\n",
      "/hpc/home/rv103/revathy/BlueSTARR/test/data/K562/generated-seq/chr1-f-ap1-f-gata.txt\n"
     ]
    }
   ],
   "source": [
    "!ls /hpc/home/rv103/revathy/BlueSTARR/test/data/K562/generated-seq/*ap1*gata.txt"
   ]
  },
  {
   "cell_type": "code",
   "execution_count": 13,
   "id": "07a25a3e-dd62-493b-bda6-6f9294fa41a9",
   "metadata": {},
   "outputs": [
    {
     "name": "stdout",
     "output_type": "stream",
     "text": [
      "600 /hpc/home/rv103/revathy/BlueSTARR/test/data/K562/generated-seq/chr1-b-ap1-b-gata.txt\n"
     ]
    }
   ],
   "source": [
    "!wc -l /hpc/home/rv103/revathy/BlueSTARR/test/data/K562/generated-seq/chr1-b-ap1-b-gata.txt"
   ]
  },
  {
   "cell_type": "code",
   "execution_count": 9,
   "id": "0c25d5d0-facd-40c1-84c6-ad38e244ed62",
   "metadata": {},
   "outputs": [
    {
     "name": "stdout",
     "output_type": "stream",
     "text": [
      "Overwriting /hpc/home/rv103/revathy/BlueSTARR/test/scripts/K562_AP1_GATA_logfc.q\n"
     ]
    }
   ],
   "source": [
    "%%writefile /hpc/home/rv103/revathy/BlueSTARR/test/scripts/K562_AP1_GATA_logfc.q\n",
    "#!/bin/sh\n",
    "#\n",
    "#SBATCH --get-user-env\n",
    "#SBATCH -J logfc\n",
    "#SBATCH --mail-user=rv103@duke.edu\n",
    "#SBATCH --mail-type=END,FAIL\n",
    "#SBATCH --gres=gpu:1\n",
    "#SBATCH -p majoroslab-gpu,scavenger-gpu\n",
    "#SBATCH --nice=100\n",
    "#SBATCH --mem=102400\n",
    "#SBATCH --cpus-per-task=1\n",
    "#SBATCH -o /hpc/home/rv103/revathy/BlueSTARR/test/logs/K562_AP1_GATA_logfc.out\n",
    "#SBATCH -e /hpc/home/rv103/revathy/BlueSTARR/test/logs/K562_AP1_GATA_logfc.err\n",
    "#\n",
    "python /hpc/home/rv103/revathy/BlueSTARR/test/scripts/K562_test-variants-fc.py  \\\n",
    "/datacommons/igvf-pm/K562/full-set/K562 \\\n",
    "/hpc/home/rv103/revathy/BlueSTARR/test/data/K562/generated-seq/chr1-f-ap1-b-gata.txt \\\n",
    "/hpc/home/rv103/revathy/BlueSTARR/test/data/K562/logfc/chr1-f-ap1-b-gata-fc.txt"
   ]
  },
  {
   "cell_type": "code",
   "execution_count": 3,
   "id": "250586da-b9eb-4d0d-834a-66343eebf0cb",
   "metadata": {},
   "outputs": [],
   "source": [
    "!mv /hpc/home/rv103/revathy/BlueSTARR/test/data/K562/generated-seq/chr1-b-ap1-b-gata-fc.txt \\\n",
    "/hpc/home/rv103/revathy/BlueSTARR/test/data/K562/logfc/chr1-b-ap1-b-gata-fc.txt"
   ]
  },
  {
   "cell_type": "code",
   "execution_count": 5,
   "id": "3e8c432c-87ab-4660-bbc4-5b5a871e5dfd",
   "metadata": {},
   "outputs": [
    {
     "name": "stdout",
     "output_type": "stream",
     "text": [
      "600 /hpc/home/rv103/revathy/BlueSTARR/test/data/K562/logfc/chr1-b-ap1-b-gata-fc.txt\n"
     ]
    }
   ],
   "source": [
    "!wc -l /hpc/home/rv103/revathy/BlueSTARR/test/data/K562/logfc/chr1-b-ap1-b-gata-fc.txt"
   ]
  },
  {
   "cell_type": "code",
   "execution_count": 7,
   "id": "3af4a283-518f-42e8-8a2b-47026ec67943",
   "metadata": {},
   "outputs": [
    {
     "data": {
      "text/plain": [
       "<Figure size 576x576 with 0 Axes>"
      ]
     },
     "metadata": {},
     "output_type": "display_data"
    },
    {
     "data": {
      "image/png": "[encoded data removed]",
      "text/plain": [
       "<Figure size 720x576 with 1 Axes>"
      ]
     },
     "metadata": {},
     "output_type": "display_data"
    }
   ],
   "source": [
    "import pandas as pd\n",
    "import numpy as np\n",
    "import seaborn as sns\n",
    "import matplotlib.pyplot as plt\n",
    "plt.figure(figsize=(8,8))\n",
    "\n",
    "sns.set_style(\"ticks\", {\"xtick.major.size\": 8, \"ytick.major.size\": 8})\n",
    "sns.set_context(\"talk\", font_scale=0.8)\n",
    "\n",
    "\n",
    "mutated_seq_with_score = pd.read_csv('/hpc/home/rv103/revathy/BlueSTARR/test/data/K562/logfc/chr1-b-ap1-b-gata-fc.txt', sep='\\t', \n",
    "                 names=['location','ref_score','sequence','background_ref_score'])\n",
    "\n",
    "mutated_seq_with_score['logFC'] = mutated_seq_with_score['ref_score'] - mutated_seq_with_score['background_ref_score']\n",
    "# mutated_seq_with_score['gata_sequence'] = mutated_seq_with_score['sequence'].str[149:159]\n",
    "# mutated_seq_with_score['bp_position'] = np.tile(np.repeat(np.arange(150,160),3),len(mutated_seq_with_score['location'].unique()))\n",
    "# mutated_seq_with_score['bp_nucleotide'] = [sequence[bp_position-1] for sequence, bp_position in zip(mutated_seq_with_score['sequence'], mutated_seq_with_score['bp_position'])]\n",
    "# mutated_seq_with_score\n",
    "\n",
    "plt.figure(figsize=(10,8))\n",
    "plt.hist(mutated_seq_with_score['background_ref_score'], density=True, bins=100, alpha=0.5,  color='blue', label=\"reference_sequences\")\n",
    "plt.hist(mutated_seq_with_score['ref_score'], density=True, bins=100, alpha=0.5, color='red', label=\"mutated_sequences\")\n",
    "plt.hist(mutated_seq_with_score['logFC'], density=True, bins=100, alpha=0.5,  color='green', label=\"logFC\")\n",
    "sns.kdeplot(mutated_seq_with_score['background_ref_score'], color='darkblue')\n",
    "sns.kdeplot(mutated_seq_with_score['ref_score'], color='darkred')\n",
    "sns.kdeplot(mutated_seq_with_score['logFC'], color='green')\n",
    "plt.xlabel(\"Reference Scores\", size=14)\n",
    "plt.ylabel(\"Density\", size=14)\n",
    "plt.legend(loc='upper right')\n",
    "sns.despine()\n",
    "plt.show()\n",
    "\n"
   ]
  },
  {
   "cell_type": "markdown",
   "id": "55429002-5c6c-4f0b-8977-b12cc706490d",
   "metadata": {},
   "source": [
    "## Compare gata1_background to ap1_gata background\n",
    "\n",
    "Since the interactions are modeled in a way where the ap1 is fixed at 10th position and the gata4 motif is moved to various distances - array([ 23,  43,  63,  83, 103, 123, 143, 163, 183, 203, 223, 243]), we need to create background sequences with gata4 inserted at all these above distances. These sequences are then compared to the gata+ap1 interacting sequences. \n",
    "\n",
    "#### create gata1_background sequences"
   ]
  },
  {
   "cell_type": "code",
   "execution_count": 23,
   "id": "33a06f89-5520-4041-95e6-4a61e07c727a",
   "metadata": {},
   "outputs": [
    {
     "name": "stdout",
     "output_type": "stream",
     "text": [
      "Overwriting /hpc/home/rv103/revathy/BlueSTARR/test/scripts/K562_GATA_step_enhancer_seq.py\n"
     ]
    }
   ],
   "source": [
    "%%writefile /hpc/home/rv103/revathy/BlueSTARR/test/scripts/K562_GATA_step_enhancer_seq.py\n",
    "import pandas as pd\n",
    "import numpy as np\n",
    "import sys\n",
    "import os\n",
    "\n",
    "## generate enhancer sequence by chromosome and save as the format of test-variant.py input file\n",
    "\n",
    "forward_gata = 'ACAGATAAGA' \n",
    "backward_gata = 'TCTTATCTGT'\n",
    "\n",
    "step = 20\n",
    "distance = np.arange(23, 244, step)\n",
    "\n",
    "\n",
    "def gen_seq(gata,df):\n",
    "    ls_loc = []\n",
    "    ls_score = []\n",
    "    ls_distance = []\n",
    "    ls_seq = []\n",
    "    ls_ref = []\n",
    "    ls_allele = []\n",
    "\n",
    "    for i in range(len(df)):\n",
    "        seq = df.loc[i,'sequence']\n",
    "\n",
    "        for j in range(len(distance)):\n",
    "            ls_loc.append(df.loc[i,'location'])\n",
    "            ls_score.append(df.loc[i,'refScore'])\n",
    "            ls_distance.append(distance[j])\n",
    "            # move gata\n",
    "            seq_tmp = seq[:distance[j]-1]+gata+seq[distance[j]-1+len(gata):]\n",
    "            if len(seq_tmp)!=300:\n",
    "                raise Exception('length error')\n",
    "            ls_seq.append(seq_tmp)\n",
    "            # fix gr, move ap1\n",
    "            # ls_seq.append(seq[:start-1]+gr+seq[start+len(gr)-1:start+distance[j]-1]+ap1+seq[start+distance[j]-1+len(ap1):])\n",
    "            ls_ref.append('ref='+seq_tmp[150])\n",
    "            ls_allele.append(seq_tmp[150])\n",
    "\n",
    "\n",
    "    return pd.DataFrame({'location':ls_loc,\n",
    "                         'ref':ls_ref,\n",
    "                         'allele':ls_allele,\n",
    "                         'sequence':ls_seq,\n",
    "                         'distance':ls_distance,\n",
    "                         'score':ls_score\n",
    "                         })\n",
    "\n",
    "\n",
    "\n",
    "def main(ref_seq_dir,output_dir,num_seq):\n",
    "\n",
    "    ref_seq_files = [f for f in os.listdir(ref_seq_dir) if f.endswith('.txt')]\n",
    "    for ref_seq in ref_seq_files:\n",
    "        chromosome = ref_seq.split('.')[0]\n",
    "\n",
    "        df = pd.read_csv(ref_seq_dir+'/'+ref_seq, sep='\\t', header=None)\n",
    "        df.columns = ['location','refScore','sequence']\n",
    "        df = df.sort_values(by = 'refScore')\n",
    "        df = df.reset_index(drop = True)\n",
    "        df = df.iloc[:num_seq,:]\n",
    "\n",
    "        gen_seq(forward_gata,df).to_csv(output_dir+'/'+chromosome+'-step-f-gata.txt', sep = '\\t', header = None, index = False)\n",
    "        gen_seq(backward_gata,df).to_csv(output_dir+'/'+chromosome+'-step-b-gata.txt', sep = '\\t', header = None, index = False)\n",
    "#         gen_seq(backward_ap1,forward_gata,df,start).to_csv(output_dir+'/'+chromosome+'-b-ap1-f-gata.txt', sep = '\\t', header = None, index = False)\n",
    "#         gen_seq(backward_ap1,backward_gata,df,start).to_csv(output_dir+'/'+chromosome+'-b-ap1-b-gata.txt', sep = '\\t', header = None, index = False)\n",
    "\n",
    "if(len(sys.argv)!=4):\n",
    "    exit(ProgramName.get()+\" <ref_seq_score_dir> <output_dir> <num_seq>\\n\")\n",
    "(ref_seq_dir, output_dir, num_seq)=sys.argv[1:]\n",
    "main(ref_seq_dir, output_dir, int(num_seq))"
   ]
  },
  {
   "cell_type": "code",
   "execution_count": 24,
   "id": "2c564ecf-5df1-4847-9a4e-548989dac1a9",
   "metadata": {},
   "outputs": [
    {
     "name": "stdout",
     "output_type": "stream",
     "text": [
      "Overwriting /hpc/home/rv103/revathy/BlueSTARR/test/scripts/K562_GATA_step_enhancer_seq.q\n"
     ]
    }
   ],
   "source": [
    "%%writefile /hpc/home/rv103/revathy/BlueSTARR/test/scripts/K562_GATA_step_enhancer_seq.q\n",
    "#!/bin/sh\n",
    "#\n",
    "#SBATCH --get-user-env\n",
    "#SBATCH -J enhancer_seq\n",
    "#SBATCH --mail-user=rv103@duke.edu\n",
    "#SBATCH --mail-type=END,FAIL\n",
    "#SBATCH --gres=gpu:1\n",
    "#SBATCH -p majoroslab-gpu,scavenger-gpu\n",
    "#SBATCH --nice=100\n",
    "#SBATCH --mem=102400\n",
    "#SBATCH --cpus-per-task=1\n",
    "#SBATCH -o /hpc/home/rv103/revathy/BlueSTARR/test/logs/K562_GATA_step_enhancer_seq.out\n",
    "#SBATCH -e /hpc/home/rv103/revathy/BlueSTARR/test/logs/K562_GATA_step_enhancer_seq.err\n",
    "#\n",
    "python /hpc/home/rv103/revathy/BlueSTARR/test/scripts/K562_GATA_step_enhancer_seq.py \\\n",
    "/hpc/home/rv103/revathy/BlueSTARR/test/data/K562/ref_score \\\n",
    "/hpc/home/rv103/revathy/BlueSTARR/test/data/K562/generated-seq 50 "
   ]
  },
  {
   "cell_type": "code",
   "execution_count": 14,
   "id": "f1a6e163-7d7d-4ef5-bcd8-a62b97a8cb41",
   "metadata": {},
   "outputs": [
    {
     "name": "stdout",
     "output_type": "stream",
     "text": [
      "Overwriting /hpc/home/rv103/revathy/BlueSTARR/test/scripts/K562_GATA_step_enhancer_seq.q\n"
     ]
    }
   ],
   "source": [
    "%%writefile /hpc/home/rv103/revathy/BlueSTARR/test/scripts/K562_GATA_step_enhancer_seq.q\n",
    "#!/bin/sh\n",
    "#\n",
    "#SBATCH --get-user-env\n",
    "#SBATCH -J logfc\n",
    "#SBATCH --mail-user=rv103@duke.edu\n",
    "#SBATCH --mail-type=END,FAIL\n",
    "#SBATCH --gres=gpu:1\n",
    "#SBATCH -p majoroslab-gpu,scavenger-gpu\n",
    "#SBATCH --nice=100\n",
    "#SBATCH --mem=102400\n",
    "#SBATCH --cpus-per-task=1\n",
    "#SBATCH -o /hpc/home/rv103/revathy/BlueSTARR/test/logs/K562_GATA_step_logfc.out\n",
    "#SBATCH -e /hpc/home/rv103/revathy/BlueSTARR/test/logs/K562_GATA_step_logfc.err\n",
    "#\n",
    "python /hpc/home/rv103/revathy/BlueSTARR/test/scripts/K562_test-variants-fc.py  \\\n",
    "/datacommons/igvf-pm/K562/full-set/K562 \\\n",
    "/hpc/home/rv103/revathy/BlueSTARR/test/data/K562/generated-seq/chr1-step-b-gata.txt \\\n",
    "/hpc/home/rv103/revathy/BlueSTARR/test/data/K562/logfc/chr1-step-b-gata-fc.txt\n",
    "\n",
    "python /hpc/home/rv103/revathy/BlueSTARR/test/scripts/K562_test-variants-fc.py  \\\n",
    "/datacommons/igvf-pm/K562/full-set/K562 \\\n",
    "/hpc/home/rv103/revathy/BlueSTARR/test/data/K562/generated-seq/chr1-step-f-gata.txt \\\n",
    "/hpc/home/rv103/revathy/BlueSTARR/test/data/K562/logfc/chr1-step-f-gata-fc.txt"
   ]
  },
  {
   "cell_type": "code",
   "execution_count": 29,
   "id": "e66ae050-6a45-4c88-a578-68dbd3569122",
   "metadata": {},
   "outputs": [
    {
     "data": {
      "text/html": [
       "<div>\n",
       "<style scoped>\n",
       "    .dataframe tbody tr th:only-of-type {\n",
       "        vertical-align: middle;\n",
       "    }\n",
       "\n",
       "    .dataframe tbody tr th {\n",
       "        vertical-align: top;\n",
       "    }\n",
       "\n",
       "    .dataframe thead th {\n",
       "        text-align: right;\n",
       "    }\n",
       "</style>\n",
       "<table border=\"1\" class=\"dataframe\">\n",
       "  <thead>\n",
       "    <tr style=\"text-align: right;\">\n",
       "      <th></th>\n",
       "      <th>location</th>\n",
       "      <th>ref_score</th>\n",
       "      <th>sequence_x</th>\n",
       "      <th>background_ref_score</th>\n",
       "      <th>bp_position</th>\n",
       "      <th>gata_ref_score</th>\n",
       "      <th>sequence_y</th>\n",
       "      <th>logFC(gata/ap1_gata)</th>\n",
       "    </tr>\n",
       "  </thead>\n",
       "  <tbody>\n",
       "    <tr>\n",
       "      <th>0</th>\n",
       "      <td>chr1:1340954-1341254</td>\n",
       "      <td>-1.055379</td>\n",
       "      <td>GCACACTACATGACTCAACAGGCACACATGCATCTTATCTGTCTCA...</td>\n",
       "      <td>-1.190084</td>\n",
       "      <td>23</td>\n",
       "      <td>-1.195617</td>\n",
       "      <td>GCACACTACACACCTGCACAGGTCTTATCTGTCACCTGCATACTCA...</td>\n",
       "      <td>0.140238</td>\n",
       "    </tr>\n",
       "    <tr>\n",
       "      <th>1</th>\n",
       "      <td>chr1:1340954-1341254</td>\n",
       "      <td>-1.137926</td>\n",
       "      <td>GCACACTACATGACTCAACAGGCACACATGCACACCTGCATACTCA...</td>\n",
       "      <td>-1.190084</td>\n",
       "      <td>43</td>\n",
       "      <td>-1.212295</td>\n",
       "      <td>GCACACTACACACCTGCACAGGCACACATGCACACCTGCATATCTT...</td>\n",
       "      <td>0.074369</td>\n",
       "    </tr>\n",
       "    <tr>\n",
       "      <th>2</th>\n",
       "      <td>chr1:1340954-1341254</td>\n",
       "      <td>-1.128011</td>\n",
       "      <td>GCACACTACATGACTCAACAGGCACACATGCACACCTGCATACTCA...</td>\n",
       "      <td>-1.190084</td>\n",
       "      <td>63</td>\n",
       "      <td>-1.197904</td>\n",
       "      <td>GCACACTACACACCTGCACAGGCACACATGCACACCTGCATACTCA...</td>\n",
       "      <td>0.069894</td>\n",
       "    </tr>\n",
       "    <tr>\n",
       "      <th>3</th>\n",
       "      <td>chr1:1340954-1341254</td>\n",
       "      <td>-1.152251</td>\n",
       "      <td>GCACACTACATGACTCAACAGGCACACATGCACACCTGCATACTCA...</td>\n",
       "      <td>-1.190084</td>\n",
       "      <td>83</td>\n",
       "      <td>-1.253001</td>\n",
       "      <td>GCACACTACACACCTGCACAGGCACACATGCACACCTGCATACTCA...</td>\n",
       "      <td>0.100750</td>\n",
       "    </tr>\n",
       "    <tr>\n",
       "      <th>4</th>\n",
       "      <td>chr1:1340954-1341254</td>\n",
       "      <td>-1.109948</td>\n",
       "      <td>GCACACTACATGACTCAACAGGCACACATGCACACCTGCATACTCA...</td>\n",
       "      <td>-1.190084</td>\n",
       "      <td>103</td>\n",
       "      <td>-1.222142</td>\n",
       "      <td>GCACACTACACACCTGCACAGGCACACATGCACACCTGCATACTCA...</td>\n",
       "      <td>0.112194</td>\n",
       "    </tr>\n",
       "    <tr>\n",
       "      <th>...</th>\n",
       "      <td>...</td>\n",
       "      <td>...</td>\n",
       "      <td>...</td>\n",
       "      <td>...</td>\n",
       "      <td>...</td>\n",
       "      <td>...</td>\n",
       "      <td>...</td>\n",
       "      <td>...</td>\n",
       "    </tr>\n",
       "    <tr>\n",
       "      <th>595</th>\n",
       "      <td>chr1:17484147-17484447</td>\n",
       "      <td>-0.451177</td>\n",
       "      <td>AGCAGTCATATGACTCAACAGAGAATGAACGGTGGGGTCTGGGAGG...</td>\n",
       "      <td>-0.619644</td>\n",
       "      <td>163</td>\n",
       "      <td>-0.636319</td>\n",
       "      <td>AGCAGTCATTGAACAAAACAGAGAATGAACGGTGGGGTCTGGGAGG...</td>\n",
       "      <td>0.185143</td>\n",
       "    </tr>\n",
       "    <tr>\n",
       "      <th>596</th>\n",
       "      <td>chr1:17484147-17484447</td>\n",
       "      <td>-0.458045</td>\n",
       "      <td>AGCAGTCATATGACTCAACAGAGAATGAACGGTGGGGTCTGGGAGG...</td>\n",
       "      <td>-0.619644</td>\n",
       "      <td>183</td>\n",
       "      <td>-0.635557</td>\n",
       "      <td>AGCAGTCATTGAACAAAACAGAGAATGAACGGTGGGGTCTGGGAGG...</td>\n",
       "      <td>0.177512</td>\n",
       "    </tr>\n",
       "    <tr>\n",
       "      <th>597</th>\n",
       "      <td>chr1:17484147-17484447</td>\n",
       "      <td>-0.457020</td>\n",
       "      <td>AGCAGTCATATGACTCAACAGAGAATGAACGGTGGGGTCTGGGAGG...</td>\n",
       "      <td>-0.619644</td>\n",
       "      <td>203</td>\n",
       "      <td>-0.632816</td>\n",
       "      <td>AGCAGTCATTGAACAAAACAGAGAATGAACGGTGGGGTCTGGGAGG...</td>\n",
       "      <td>0.175796</td>\n",
       "    </tr>\n",
       "    <tr>\n",
       "      <th>598</th>\n",
       "      <td>chr1:17484147-17484447</td>\n",
       "      <td>-0.414790</td>\n",
       "      <td>AGCAGTCATATGACTCAACAGAGAATGAACGGTGGGGTCTGGGAGG...</td>\n",
       "      <td>-0.619644</td>\n",
       "      <td>223</td>\n",
       "      <td>-0.602455</td>\n",
       "      <td>AGCAGTCATTGAACAAAACAGAGAATGAACGGTGGGGTCTGGGAGG...</td>\n",
       "      <td>0.187665</td>\n",
       "    </tr>\n",
       "    <tr>\n",
       "      <th>599</th>\n",
       "      <td>chr1:17484147-17484447</td>\n",
       "      <td>-0.442416</td>\n",
       "      <td>AGCAGTCATATGACTCAACAGAGAATGAACGGTGGGGTCTGGGAGG...</td>\n",
       "      <td>-0.619644</td>\n",
       "      <td>243</td>\n",
       "      <td>-0.627238</td>\n",
       "      <td>AGCAGTCATTGAACAAAACAGAGAATGAACGGTGGGGTCTGGGAGG...</td>\n",
       "      <td>0.184822</td>\n",
       "    </tr>\n",
       "  </tbody>\n",
       "</table>\n",
       "<p>600 rows × 8 columns</p>\n",
       "</div>"
      ],
      "text/plain": [
       "                   location  ref_score  \\\n",
       "0      chr1:1340954-1341254  -1.055379   \n",
       "1      chr1:1340954-1341254  -1.137926   \n",
       "2      chr1:1340954-1341254  -1.128011   \n",
       "3      chr1:1340954-1341254  -1.152251   \n",
       "4      chr1:1340954-1341254  -1.109948   \n",
       "..                      ...        ...   \n",
       "595  chr1:17484147-17484447  -0.451177   \n",
       "596  chr1:17484147-17484447  -0.458045   \n",
       "597  chr1:17484147-17484447  -0.457020   \n",
       "598  chr1:17484147-17484447  -0.414790   \n",
       "599  chr1:17484147-17484447  -0.442416   \n",
       "\n",
       "                                            sequence_x  background_ref_score  \\\n",
       "0    GCACACTACATGACTCAACAGGCACACATGCATCTTATCTGTCTCA...             -1.190084   \n",
       "1    GCACACTACATGACTCAACAGGCACACATGCACACCTGCATACTCA...             -1.190084   \n",
       "2    GCACACTACATGACTCAACAGGCACACATGCACACCTGCATACTCA...             -1.190084   \n",
       "3    GCACACTACATGACTCAACAGGCACACATGCACACCTGCATACTCA...             -1.190084   \n",
       "4    GCACACTACATGACTCAACAGGCACACATGCACACCTGCATACTCA...             -1.190084   \n",
       "..                                                 ...                   ...   \n",
       "595  AGCAGTCATATGACTCAACAGAGAATGAACGGTGGGGTCTGGGAGG...             -0.619644   \n",
       "596  AGCAGTCATATGACTCAACAGAGAATGAACGGTGGGGTCTGGGAGG...             -0.619644   \n",
       "597  AGCAGTCATATGACTCAACAGAGAATGAACGGTGGGGTCTGGGAGG...             -0.619644   \n",
       "598  AGCAGTCATATGACTCAACAGAGAATGAACGGTGGGGTCTGGGAGG...             -0.619644   \n",
       "599  AGCAGTCATATGACTCAACAGAGAATGAACGGTGGGGTCTGGGAGG...             -0.619644   \n",
       "\n",
       "     bp_position  gata_ref_score  \\\n",
       "0             23       -1.195617   \n",
       "1             43       -1.212295   \n",
       "2             63       -1.197904   \n",
       "3             83       -1.253001   \n",
       "4            103       -1.222142   \n",
       "..           ...             ...   \n",
       "595          163       -0.636319   \n",
       "596          183       -0.635557   \n",
       "597          203       -0.632816   \n",
       "598          223       -0.602455   \n",
       "599          243       -0.627238   \n",
       "\n",
       "                                            sequence_y  logFC(gata/ap1_gata)  \n",
       "0    GCACACTACACACCTGCACAGGTCTTATCTGTCACCTGCATACTCA...              0.140238  \n",
       "1    GCACACTACACACCTGCACAGGCACACATGCACACCTGCATATCTT...              0.074369  \n",
       "2    GCACACTACACACCTGCACAGGCACACATGCACACCTGCATACTCA...              0.069894  \n",
       "3    GCACACTACACACCTGCACAGGCACACATGCACACCTGCATACTCA...              0.100750  \n",
       "4    GCACACTACACACCTGCACAGGCACACATGCACACCTGCATACTCA...              0.112194  \n",
       "..                                                 ...                   ...  \n",
       "595  AGCAGTCATTGAACAAAACAGAGAATGAACGGTGGGGTCTGGGAGG...              0.185143  \n",
       "596  AGCAGTCATTGAACAAAACAGAGAATGAACGGTGGGGTCTGGGAGG...              0.177512  \n",
       "597  AGCAGTCATTGAACAAAACAGAGAATGAACGGTGGGGTCTGGGAGG...              0.175796  \n",
       "598  AGCAGTCATTGAACAAAACAGAGAATGAACGGTGGGGTCTGGGAGG...              0.187665  \n",
       "599  AGCAGTCATTGAACAAAACAGAGAATGAACGGTGGGGTCTGGGAGG...              0.184822  \n",
       "\n",
       "[600 rows x 8 columns]"
      ]
     },
     "execution_count": 29,
     "metadata": {},
     "output_type": "execute_result"
    }
   ],
   "source": [
    "import pandas as pd\n",
    "import numpy as np\n",
    "\n",
    "gata_ap1 = pd.read_csv('/hpc/home/rv103/revathy/BlueSTARR/test/data/K562/logfc/chr1-b-ap1-b-gata-fc.txt', sep='\\t',\n",
    "                      names=['location','ref_score','sequence','background_ref_score'])\n",
    "gata_ap1['bp_position'] = np.tile(np.arange(23, 244, 20),len(gata['location'].unique()))\n",
    "\n",
    "gata = pd.read_csv('/hpc/home/rv103/revathy/BlueSTARR/test/data/K562/logfc/chr1-step-b-gata-fc.txt', sep='\\t',\n",
    "                  names=['location','gata_ref_score','sequence','background_ref_score'])\n",
    "gata['bp_position'] = np.tile(np.arange(23, 244, 20),len(gata['location'].unique()))\n",
    "\n",
    "gata_ap1_combined = gata_ap1.merge(gata, on=['location','background_ref_score','bp_position'],how='inner')\n",
    "gata_ap1_combined['logFC(gata/ap1_gata)'] = gata_ap1_combined['ref_score'] - gata_ap1_combined['gata_ref_score']\n",
    "gata_ap1_combined\n",
    "# .to_csv('/hpc/home/rv103/revathy/BlueSTARR/test/data/K562/logfc/chr1-b-ap1-b-gata-fc.txt')\n"
   ]
  },
  {
   "cell_type": "markdown",
   "id": "883b2f22-a7db-4bee-b606-f78a021d480a",
   "metadata": {},
   "source": [
    "## Inserting TAL1 and GATA4 together in the background sequence at the 150th position\n",
    "\n",
    "Step1: modify the enhancer_seq.py code accordingly"
   ]
  },
  {
   "cell_type": "code",
   "execution_count": 13,
   "id": "892744cc-0c24-44f6-a50e-e4a84e360d00",
   "metadata": {},
   "outputs": [
    {
     "name": "stdout",
     "output_type": "stream",
     "text": [
      "Overwriting /hpc/home/rv103/revathy/BlueSTARR/test/scripts/K562_TAL_GATA_enhancer_seq.py\n"
     ]
    }
   ],
   "source": [
    "%%writefile /hpc/home/rv103/revathy/BlueSTARR/test/scripts/K562_TAL_GATA_enhancer_seq.py\n",
    "import pandas as pd\n",
    "import numpy as np\n",
    "import sys\n",
    "import os\n",
    "\n",
    "### generate enhancer sequence by chromosome and save as the format of test-variant.py input file\n",
    "\n",
    "### forward and backward sequence for TAL1 & GATA4 motif \n",
    "\n",
    "forward_tal1 = 'CTGG'\n",
    "backward_tal1 = 'CCAG'\n",
    "\n",
    "forward_gata1 = 'ACAGATAAGG' \n",
    "backward_gata1 = 'CCTTATCTGT'\n",
    "\n",
    "### distance where the TAL1 & GATA4 motif need to be inserted in the background sequence\n",
    "\n",
    "distance = 150\n",
    "tal_gata_step = 5\n",
    "\n",
    "# step = 1\n",
    "# distance = np.arange(8, 278, step)\n",
    "# step = 20\n",
    "# distance = np.arange(23, 244, step)\n",
    "\n",
    "    \n",
    "def gen_seq(tal1,gata1,df):\n",
    "    ls_loc = []\n",
    "    ls_score = []\n",
    "    ls_seq = []\n",
    "    ls_ref = []\n",
    "    ls_allele = []\n",
    "\n",
    "    for i in range(len(df)):\n",
    "        seq = df.loc[i,'sequence']\n",
    "        ls_loc.append(df.loc[i,'location'])\n",
    "        ls_score.append(df.loc[i,'refScore'])\n",
    "        seq_tmp = seq[:distance-1]+tal1+seq[distance+len(tal1)-1:distance+len(tal1)+tal_gata_step-1]+gata1+seq[distance+len(tal1)+tal_gata_step+len(gata1)-1:]\n",
    "        if len(seq_tmp)!=300:\n",
    "            raise Exception('length error')\n",
    "        ls_seq.append(seq_tmp)\n",
    "        ls_ref.append('ref='+seq_tmp[distance])\n",
    "        ls_allele.append(seq_tmp[distance])\n",
    "\n",
    "    return pd.DataFrame({'location':ls_loc,\n",
    "                         'ref':ls_ref,\n",
    "                         'allele':ls_allele,\n",
    "                         'sequence':ls_seq,\n",
    "                         'ref_score':ls_score\n",
    "                         })\n",
    "\n",
    "\n",
    "def main(ref_seq_dir,output_dir,num_seq):\n",
    "\n",
    "    ref_seq_files = [f for f in os.listdir(ref_seq_dir) if f.endswith('.txt')]\n",
    "    for ref_seq in ref_seq_files:\n",
    "        chromosome = ref_seq.split('.')[0]\n",
    "\n",
    "        df = pd.read_csv(ref_seq_dir+'/'+ref_seq, sep='\\t', header=None)\n",
    "        df.columns = ['location','refScore','sequence']\n",
    "        df = df.sort_values(by = 'refScore')\n",
    "        df = df.reset_index(drop = True)\n",
    "        df = df.iloc[:num_seq,:]\n",
    "\n",
    "        gen_seq(forward_tal1,forward_gata1,df).to_csv(output_dir+'/'+chromosome+'-f-150-tal1-gata4.txt', sep = '\\t', header = None, index = False)\n",
    "        gen_seq(backward_tal1,backward_gata1,df).to_csv(output_dir+'/'+chromosome+'-b-150-tal1-gata4.txt', sep = '\\t', header = None, index = False)\n",
    "#         gen_seq(backward_ap1,forward_gr,df,start).to_csv(output_dir+'/'+chromosome+'-b-ap1-f-gr.txt', sep = '\\t', header = None, index = False)\n",
    "#         gen_seq(backward_ap1,backward_gr,df,start).to_csv(output_dir+'/'+chromosome+'-b-ap1-b-gr.txt', sep = '\\t', header = None, index = False)\n",
    "\n",
    "if(len(sys.argv)!=4):\n",
    "    exit(ProgramName.get()+\" <ref_seq_score_dir> <output_dir> <num_seq> \\n\")\n",
    "(ref_seq_dir, output_dir, num_seq)=sys.argv[1:]\n",
    "main(ref_seq_dir, output_dir, int(num_seq))"
   ]
  },
  {
   "cell_type": "code",
   "execution_count": 10,
   "id": "806cbcd4-9094-485e-84ea-7214f82f7d51",
   "metadata": {},
   "outputs": [
    {
     "name": "stdout",
     "output_type": "stream",
     "text": [
      "Writing /hpc/home/rv103/revathy/BlueSTARR/test/scripts/K562_TAL_GATA_enhancer_seq.q\n"
     ]
    }
   ],
   "source": [
    "%%writefile /hpc/home/rv103/revathy/BlueSTARR/test/scripts/K562_TAL_GATA_enhancer_seq.q\n",
    "#!/bin/sh\n",
    "#\n",
    "#SBATCH --get-user-env\n",
    "#SBATCH -J enhancer_seq\n",
    "#SBATCH --mail-user=rv103@duke.edu\n",
    "#SBATCH --mail-type=END,FAIL\n",
    "#SBATCH --gres=gpu:1\n",
    "#SBATCH -p majoroslab-gpu,scavenger-gpu\n",
    "#SBATCH --nice=100\n",
    "#SBATCH --mem=102400\n",
    "#SBATCH --cpus-per-task=1\n",
    "#SBATCH -o /hpc/home/rv103/revathy/BlueSTARR/test/logs/enhancer_seq.out\n",
    "#SBATCH -e /hpc/home/rv103/revathy/BlueSTARR/test/logs/enhancer_seq.err\n",
    "#\n",
    "python /hpc/home/rv103/revathy/BlueSTARR/test/scripts/K562_TAL_GATA_enhancer_seq.py \\\n",
    "/hpc/home/rv103/revathy/BlueSTARR/test/data/K562/ref_score \\\n",
    "/hpc/home/rv103/revathy/BlueSTARR/test/data/K562/generated-seq 600 "
   ]
  },
  {
   "cell_type": "code",
   "execution_count": 1,
   "id": "de7af249-32d4-4a7e-a9b1-935132a3d515",
   "metadata": {},
   "outputs": [
    {
     "name": "stdout",
     "output_type": "stream",
     "text": [
      "/hpc/home/rv103/revathy/BlueSTARR/test/data/K562/generated-seq/chr1-b-150-tal1-gata4.txt\n",
      "/hpc/home/rv103/revathy/BlueSTARR/test/data/K562/generated-seq/chr1-f-150-tal1-gata4.txt\n"
     ]
    }
   ],
   "source": [
    "!ls /hpc/home/rv103/revathy/BlueSTARR/test/data/K562/generated-seq/*tal1*gata4*"
   ]
  },
  {
   "cell_type": "code",
   "execution_count": 12,
   "id": "c75b9eb4-df24-4579-a201-eac74f6717ae",
   "metadata": {},
   "outputs": [
    {
     "name": "stdout",
     "output_type": "stream",
     "text": [
      "Overwriting /hpc/home/rv103/revathy/BlueSTARR/test/scripts/K562_TAL_GATA_logfc.q\n"
     ]
    }
   ],
   "source": [
    "%%writefile /hpc/home/rv103/revathy/BlueSTARR/test/scripts/K562_TAL_GATA_logfc.q\n",
    "#!/bin/sh\n",
    "#\n",
    "#SBATCH --get-user-env\n",
    "#SBATCH -J logfc\n",
    "#SBATCH --mail-user=rv103@duke.edu\n",
    "#SBATCH --mail-type=END,FAIL\n",
    "#SBATCH --gres=gpu:1\n",
    "#SBATCH -p majoroslab-gpu,scavenger-gpu\n",
    "#SBATCH --nice=100\n",
    "#SBATCH --mem=102400\n",
    "#SBATCH --cpus-per-task=1\n",
    "#SBATCH -o /hpc/home/rv103/revathy/BlueSTARR/test/logs/K562_TAL_GATA_logfc.out\n",
    "#SBATCH -e /hpc/home/rv103/revathy/BlueSTARR/test/logs/K562_TAL_GATA_logfc.err\n",
    "#\n",
    "python /hpc/home/rv103/revathy/BlueSTARR/test/scripts/K562_test-variants-fc.py  \\\n",
    "/datacommons/igvf-pm/K562/full-set/K562 \\\n",
    "/hpc/home/rv103/revathy/BlueSTARR/test/data/K562/generated-seq/chr1-f-150-tal1-gata4.txt \\\n",
    "/hpc/home/rv103/revathy/BlueSTARR/test/data/K562/logfc/chr1-f-150-tal1-gata4-fc.txt"
   ]
  },
  {
   "cell_type": "code",
   "execution_count": 18,
   "id": "5637037f-9968-4263-aba3-ddd9a740f980",
   "metadata": {},
   "outputs": [
    {
     "data": {
      "text/plain": [
       "<Figure size 576x576 with 0 Axes>"
      ]
     },
     "metadata": {},
     "output_type": "display_data"
    },
    {
     "data": {
      "image/png": "[encoded data removed]",
      "text/plain": [
       "<Figure size 720x576 with 1 Axes>"
      ]
     },
     "metadata": {},
     "output_type": "display_data"
    }
   ],
   "source": [
    "import pandas as pd\n",
    "import numpy as np\n",
    "import seaborn as sns\n",
    "import matplotlib.pyplot as plt\n",
    "plt.figure(figsize=(8,8))\n",
    "\n",
    "sns.set_style(\"ticks\", {\"xtick.major.size\": 8, \"ytick.major.size\": 8})\n",
    "sns.set_context(\"talk\", font_scale=0.8)\n",
    "\n",
    "\n",
    "mutated_seq_with_score = pd.read_csv('/hpc/home/rv103/revathy/BlueSTARR/test/data/K562/logfc/chr1-f-150-tal1-gata4-fc.txt', sep='\\t', \n",
    "                 names=['location','ref_score','sequence','background_ref_score'])\n",
    "\n",
    "mutated_seq_with_score['logFC'] = mutated_seq_with_score['ref_score'] - mutated_seq_with_score['background_ref_score']\n",
    "# mutated_seq_with_score['gata_sequence'] = mutated_seq_with_score['sequence'].str[149:159]\n",
    "# mutated_seq_with_score['bp_position'] = np.tile(np.repeat(np.arange(150,160),3),len(mutated_seq_with_score['location'].unique()))\n",
    "# mutated_seq_with_score['bp_nucleotide'] = [sequence[bp_position-1] for sequence, bp_position in zip(mutated_seq_with_score['sequence'], mutated_seq_with_score['bp_position'])]\n",
    "# mutated_seq_with_score\n",
    "\n",
    "plt.figure(figsize=(10,8))\n",
    "plt.hist(mutated_seq_with_score['background_ref_score'], density=True, bins=100, alpha=0.5,  color='blue', label=\"reference_sequences\")\n",
    "plt.hist(mutated_seq_with_score['ref_score'], density=True, bins=100, alpha=0.5, color='red', label=\"mutated_sequences\")\n",
    "plt.hist(mutated_seq_with_score['logFC'], density=True, bins=100, alpha=0.5,  color='green', label=\"logFC\")\n",
    "sns.kdeplot(mutated_seq_with_score['background_ref_score'], color='darkblue')\n",
    "sns.kdeplot(mutated_seq_with_score['ref_score'], color='darkred')\n",
    "sns.kdeplot(mutated_seq_with_score['logFC'], color='green')\n",
    "plt.xlabel(\"Reference Scores\", size=14)\n",
    "plt.ylabel(\"Density\", size=14)\n",
    "plt.legend(loc='upper right')\n",
    "sns.despine()\n",
    "plt.show()\n",
    "\n"
   ]
  },
  {
   "cell_type": "markdown",
   "id": "d24f7bbb-13f0-45d6-8263-b314ac793e73",
   "metadata": {},
   "source": [
    "### Trying different model architecture for the same motif configuration"
   ]
  },
  {
   "cell_type": "code",
   "execution_count": 7,
   "id": "c2d95f4d-14ff-4ca6-93f6-cd316ee78b00",
   "metadata": {},
   "outputs": [],
   "source": [
    "%%bash\n",
    "mkdir -p /hpc/home/rv103/revathy/BlueSTARR/test/model\n",
    "mkdir -p /hpc/home/rv103/revathy/BlueSTARR/test/model/K562\n",
    "cp /datacommons/igvf-pm/K562/full-set/K562.config /hpc/home/rv103/revathy/BlueSTARR/test/model/K562/full-set/\n",
    "cp /datacommons/igvf-pm/K562/full-set/K562.json /hpc/home/rv103/revathy/BlueSTARR/test/model/K562/full-set/\n",
    "cp /datacommons/igvf-pm/K562/full-set/K562.h5 /hpc/home/rv103/revathy/BlueSTARR/test/model/K562/full-set/"
   ]
  },
  {
   "cell_type": "code",
   "execution_count": 10,
   "id": "f2111628-249c-44e4-a73b-23b2ac1e46ec",
   "metadata": {},
   "outputs": [
    {
     "name": "stdout",
     "output_type": "stream",
     "text": [
      "Overwriting /hpc/home/rv103/revathy/BlueSTARR/test/model/K562/full-set/K562.config\n"
     ]
    }
   ],
   "source": [
    "%%writefile /hpc/home/rv103/revathy/BlueSTARR/test/model/K562/full-set/K562.config\n",
    "UseCustomLoss = 0\n",
    "Tasks = K562\n",
    "TaskWeights = 1\n",
    "Verbose = 2\n",
    "NumConvLayers = 5\n",
    "KernelSizes = 8,16,32,64,128\n",
    "NumKernels = 1024,512,256,128,64\n",
    "MaxTrain=3000000 \n",
    "MaxTest=999999999\n",
    "ShouldTest=1\n",
    "Epochs = 200\n",
    "\n",
    "RevComp = 0\n",
    "BatchSize = 128\n",
    "EarlyStop = 10\n",
    "DropoutRate = 0.5\n",
    "LearningRate = 0.002\n",
    "ConvResidualSkip = 0\n",
    "ConvDropout = 1\n",
    "ConvPad = same\n",
    "DilationFactor = 1\n",
    "ConvPoolSize = 1\n",
    "GlobalMaxPool = 0\n",
    "GlobalAvePool = 1\n",
    "NumDense = 0\n",
    "DenseSizes = 0\n",
    "NumAttentionLayers = 5\n",
    "AttentionHeads = 32,32,32,32,32\n",
    "AttentionKeyDim = 1024,1024,1024,1024,1024\n",
    "AttentionResidualSkip = 0"
   ]
  },
  {
   "cell_type": "code",
   "execution_count": 11,
   "id": "64944630-2a92-4a20-ac3f-07db41246d64",
   "metadata": {},
   "outputs": [
    {
     "name": "stdout",
     "output_type": "stream",
     "text": [
      "Overwriting /hpc/home/rv103/revathy/BlueSTARR/test/scripts/K562_TAL_GATA_logfc.q\n"
     ]
    }
   ],
   "source": [
    "%%writefile /hpc/home/rv103/revathy/BlueSTARR/test/scripts/K562_TAL_GATA_logfc.q\n",
    "#!/bin/sh\n",
    "#\n",
    "#SBATCH --get-user-env\n",
    "#SBATCH -J logfc\n",
    "#SBATCH --mail-user=rv103@duke.edu\n",
    "#SBATCH --mail-type=END,FAIL\n",
    "#SBATCH --gres=gpu:1\n",
    "#SBATCH -p majoroslab-gpu,scavenger-gpu\n",
    "#SBATCH --nice=100\n",
    "#SBATCH --mem=102400\n",
    "#SBATCH --cpus-per-task=1\n",
    "#SBATCH -o /hpc/home/rv103/revathy/BlueSTARR/test/logs/K562_TAL_GATA_logfc.out\n",
    "#SBATCH -e /hpc/home/rv103/revathy/BlueSTARR/test/logs/K562_TAL_GATA_logfc.err\n",
    "#\n",
    "python /hpc/home/rv103/revathy/BlueSTARR/test/scripts/K562_test-variants-fc.py  \\\n",
    "/datacommons/igvf-pm/K562/full-set/K562 \\\n",
    "/hpc/home/rv103/revathy/BlueSTARR/test/data/K562/generated-seq/chr1-f-150-tal1-gata4.txt \\\n",
    "/hpc/home/rv103/revathy/BlueSTARR/test/data/K562/logfc/chr1-f-150-tal1-gata4-attention-fc.txt"
   ]
  },
  {
   "cell_type": "code",
   "execution_count": 12,
   "id": "41d42681-c789-48b1-bccc-7def570c238e",
   "metadata": {},
   "outputs": [
    {
     "data": {
      "text/plain": [
       "<Figure size 576x576 with 0 Axes>"
      ]
     },
     "metadata": {},
     "output_type": "display_data"
    },
    {
     "data": {
      "image/png": "[encoded data removed]",
      "text/plain": [
       "<Figure size 720x576 with 1 Axes>"
      ]
     },
     "metadata": {},
     "output_type": "display_data"
    }
   ],
   "source": [
    "import pandas as pd\n",
    "import numpy as np\n",
    "import seaborn as sns\n",
    "import matplotlib.pyplot as plt\n",
    "plt.figure(figsize=(8,8))\n",
    "\n",
    "sns.set_style(\"ticks\", {\"xtick.major.size\": 8, \"ytick.major.size\": 8})\n",
    "sns.set_context(\"talk\", font_scale=0.8)\n",
    "\n",
    "\n",
    "mutated_seq_with_score = pd.read_csv('/hpc/home/rv103/revathy/BlueSTARR/test/data/K562/logfc/chr1-f-150-tal1-gata4-attention-fc.txt', sep='\\t', \n",
    "                 names=['location','ref_score','sequence','background_ref_score'])\n",
    "\n",
    "mutated_seq_with_score['logFC'] = mutated_seq_with_score['ref_score'] - mutated_seq_with_score['background_ref_score']\n",
    "# mutated_seq_with_score['gata_sequence'] = mutated_seq_with_score['sequence'].str[149:159]\n",
    "# mutated_seq_with_score['bp_position'] = np.tile(np.repeat(np.arange(150,160),3),len(mutated_seq_with_score['location'].unique()))\n",
    "# mutated_seq_with_score['bp_nucleotide'] = [sequence[bp_position-1] for sequence, bp_position in zip(mutated_seq_with_score['sequence'], mutated_seq_with_score['bp_position'])]\n",
    "# mutated_seq_with_score\n",
    "\n",
    "plt.figure(figsize=(10,8))\n",
    "plt.hist(mutated_seq_with_score['background_ref_score'], density=True, bins=100, alpha=0.5,  color='blue', label=\"reference_sequences\")\n",
    "plt.hist(mutated_seq_with_score['ref_score'], density=True, bins=100, alpha=0.5, color='red', label=\"mutated_sequences\")\n",
    "plt.hist(mutated_seq_with_score['logFC'], density=True, bins=100, alpha=0.5,  color='green', label=\"logFC\")\n",
    "sns.kdeplot(mutated_seq_with_score['background_ref_score'], color='darkblue')\n",
    "sns.kdeplot(mutated_seq_with_score['ref_score'], color='darkred')\n",
    "sns.kdeplot(mutated_seq_with_score['logFC'], color='green')\n",
    "plt.xlabel(\"Reference Scores\", size=14)\n",
    "plt.ylabel(\"Density\", size=14)\n",
    "plt.legend(loc='upper right')\n",
    "sns.despine()\n",
    "plt.show()\n",
    "\n"
   ]
  },
  {
   "cell_type": "markdown",
   "id": "46388b26-5dd0-40c4-99bf-52621902a0d5",
   "metadata": {},
   "source": [
    "### TAL-GATA-AP1 interactions"
   ]
  },
  {
   "cell_type": "code",
   "execution_count": 16,
   "id": "4da55ba9-4414-4311-90f3-27668b187085",
   "metadata": {},
   "outputs": [
    {
     "name": "stdout",
     "output_type": "stream",
     "text": [
      "Overwriting /hpc/home/rv103/revathy/BlueSTARR/test/scripts/BlueSTARR/K562_TAL_GATA_AP1_enhancer_seq.py\n"
     ]
    }
   ],
   "source": [
    "%%writefile /hpc/home/rv103/revathy/BlueSTARR/test/scripts/BlueSTARR/K562_TAL_GATA_AP1_enhancer_seq.py\n",
    "import pandas as pd\n",
    "import numpy as np\n",
    "import sys\n",
    "import os\n",
    "\n",
    "## generate enhancer sequence by chromosome and save as the format of test-variant.py input file\n",
    "\n",
    "forward_ap1 = 'TGAGTCAT'\n",
    "backward_ap1 = 'ATGACTCA'\n",
    "\n",
    "forward_tal1 = 'CTGG'\n",
    "backward_tal1 = 'CCAG'\n",
    "\n",
    "forward_gata1 = 'ACAGATAAGG' \n",
    "backward_gata1 = 'CCTTATCTGT'\n",
    "\n",
    "step = 20\n",
    "tal_gata_step=5\n",
    "distance = np.arange(23, 244, step)\n",
    "\n",
    "\n",
    "def gen_seq(tal1,gata1,ap1,df,start):\n",
    "    ls_loc = []\n",
    "    ls_score = []\n",
    "    ls_distance = []\n",
    "    ls_seq = []\n",
    "    ls_ref = []\n",
    "    ls_allele = []\n",
    "\n",
    "    for i in range(len(df)):\n",
    "        seq = df.loc[i,'sequence']\n",
    "\n",
    "        for j in range(len(distance)):\n",
    "            ls_loc.append(df.loc[i,'location'])\n",
    "            ls_score.append(df.loc[i,'refScore'])\n",
    "            ls_distance.append(distance[j])\n",
    "            # fix tal-gata-complex, move ap1\n",
    "            \n",
    "            tal_gata = tal1+seq[distance[j]+len(tal1)-1:distance[j]+len(tal1)+tal_gata_step-1]+gata1\n",
    "            seq_tmp = seq[:start-1]+tal_gata+seq[start+len(tal_gata)-1:start+distance[j]-1]+ap1+seq[start+distance[j]-1+len(ap1):]\n",
    "            \n",
    "            if len(seq_tmp)!=300:\n",
    "                raise Exception('length error')\n",
    "            ls_seq.append(seq_tmp)\n",
    "            # fix gr, move ap1\n",
    "            # ls_seq.append(seq[:start-1]+gr+seq[start+len(gr)-1:start+distance[j]-1]+ap1+seq[start+distance[j]-1+len(ap1):])\n",
    "            ls_ref.append('ref='+seq_tmp[150])\n",
    "            ls_allele.append(seq_tmp[150])\n",
    "\n",
    "\n",
    "    return pd.DataFrame({'location':ls_loc,\n",
    "                         'ref':ls_ref,\n",
    "                         'allele':ls_allele,\n",
    "                         'sequence':ls_seq,\n",
    "                         'distance':ls_distance,\n",
    "                         'score':ls_score\n",
    "                         })\n",
    "\n",
    "\n",
    "\n",
    "def main(ref_seq_dir,output_dir,num_seq,start):\n",
    "\n",
    "    ref_seq_files = [f for f in os.listdir(ref_seq_dir) if f.endswith('.txt')]\n",
    "    for ref_seq in ref_seq_files:\n",
    "        chromosome = ref_seq.split('.')[0]\n",
    "\n",
    "        df = pd.read_csv(ref_seq_dir+'/'+ref_seq, sep='\\t', header=None)\n",
    "        df.columns = ['location','refScore','sequence']\n",
    "        df = df.sort_values(by = 'refScore')\n",
    "        df = df.reset_index(drop = True)\n",
    "        df = df.iloc[:num_seq,:]\n",
    "\n",
    "        gen_seq(forward_tal1,forward_gata1,forward_ap1,df,start).to_csv(output_dir+'/'+chromosome+'-f-tal_gata-f-ap1.txt', sep = '\\t', header = None, index = False)\n",
    "        gen_seq(backward_tal1,backward_gata1,forward_ap1,df,start).to_csv(output_dir+'/'+chromosome+'-b-tal_gata-f-ap1.txt', sep = '\\t', header = None, index = False)\n",
    "        gen_seq(forward_tal1,forward_gata1,backward_ap1,df,start).to_csv(output_dir+'/'+chromosome+'-f-tal_gata-b-ap1.txt', sep = '\\t', header = None, index = False)\n",
    "        gen_seq(backward_tal1,backward_gata1,backward_ap1,df,start).to_csv(output_dir+'/'+chromosome+'-b-tal_gata-b-ap1.txt', sep = '\\t', header = None, index = False)\n",
    "\n",
    "if(len(sys.argv)!=5):\n",
    "    exit(ProgramName.get()+\" <ref_seq_score_dir> <output_dir> <num_seq> <start_pos_ap1>\\n\")\n",
    "(ref_seq_dir, output_dir, num_seq, start)=sys.argv[1:]\n",
    "main(ref_seq_dir, output_dir, int(num_seq), int(start))"
   ]
  },
  {
   "cell_type": "code",
   "execution_count": 2,
   "id": "9ef3b3c4-f978-41c8-8842-f302dce5776d",
   "metadata": {},
   "outputs": [
    {
     "name": "stdout",
     "output_type": "stream",
     "text": [
      "Overwriting /hpc/home/rv103/revathy/BlueSTARR/test/scripts/BlueSTARR/K562_TAL_GATA_AP1_enhancer_seq.q\n"
     ]
    }
   ],
   "source": [
    "%%writefile /hpc/home/rv103/revathy/BlueSTARR/test/scripts/BlueSTARR/K562_TAL_GATA_AP1_enhancer_seq.q\n",
    "#!/bin/sh\n",
    "#\n",
    "#SBATCH --get-user-env\n",
    "#SBATCH -J enhancer_seq\n",
    "#SBATCH --mail-user=rv103@duke.edu\n",
    "#SBATCH --mail-type=END,FAIL\n",
    "#SBATCH --gres=gpu:1\n",
    "#SBATCH -p majoroslab-gpu,scavenger-gpu\n",
    "#SBATCH --nice=100\n",
    "#SBATCH --mem=102400\n",
    "#SBATCH --cpus-per-task=1\n",
    "#SBATCH -o /hpc/home/rv103/revathy/BlueSTARR/test/logs/K562_TAL_GATA_AP1_enhancer_seq.out\n",
    "#SBATCH -e /hpc/home/rv103/revathy/BlueSTARR/test/logs/K562_TAL_GATA_AP1_enhancer_seq.err\n",
    "#\n",
    "python /hpc/home/rv103/revathy/BlueSTARR/test/scripts/BlueSTARR/K562_TAL_GATA_AP1_enhancer_seq.py \\\n",
    "/hpc/home/rv103/revathy/BlueSTARR/test/data/K562/ref_score \\\n",
    "/hpc/home/rv103/revathy/BlueSTARR/test/data/K562/generated-seq 600 10 "
   ]
  },
  {
   "cell_type": "code",
   "execution_count": 5,
   "id": "f181460c-ce74-4b4e-b1a5-bc89c1934226",
   "metadata": {},
   "outputs": [
    {
     "name": "stdout",
     "output_type": "stream",
     "text": [
      "Overwriting /hpc/home/rv103/revathy/BlueSTARR/test/scripts/K562_TAL_GATA_AP1_logfc.q\n"
     ]
    }
   ],
   "source": [
    "%%writefile /hpc/home/rv103/revathy/BlueSTARR/test/scripts/K562_TAL_GATA_AP1_logfc.q\n",
    "#!/bin/sh\n",
    "#\n",
    "#SBATCH --get-user-env\n",
    "#SBATCH -J logfc\n",
    "#SBATCH --mail-user=rv103@duke.edu\n",
    "#SBATCH --mail-type=END,FAIL\n",
    "#SBATCH --gres=gpu:1\n",
    "#SBATCH -p majoroslab-gpu,scavenger-gpu\n",
    "#SBATCH --nice=100\n",
    "#SBATCH --mem=102400\n",
    "#SBATCH --cpus-per-task=1\n",
    "#SBATCH -o /hpc/home/rv103/revathy/BlueSTARR/test/logs/K562_TAL_GATA_AP1_logfc.out\n",
    "#SBATCH -e /hpc/home/rv103/revathy/BlueSTARR/test/logs/K562_TAL_GATA_AP1_logfc.err\n",
    "#\n",
    "python /hpc/home/rv103/revathy/BlueSTARR/test/scripts/K562_test-variants-fc.py \\\n",
    "/datacommons/igvf-pm/K562/full-set/K562 \\\n",
    "/hpc/home/rv103/revathy/BlueSTARR/test/data/K562/generated-seq/chr1-f-tal_gata-f-ap1.txt \\\n",
    "/hpc/home/rv103/revathy/BlueSTARR/test/data/K562/logfc/chr1-f-tal_gata-f-ap1-fc.txt\n",
    "\n",
    "python /hpc/home/rv103/revathy/BlueSTARR/test/scripts/K562_test-variants-fc.py \\\n",
    "/datacommons/igvf-pm/K562/full-set/K562 \\\n",
    "/hpc/home/rv103/revathy/BlueSTARR/test/data/K562/generated-seq/chr1-b-tal_gata-b-ap1.txt \\\n",
    "/hpc/home/rv103/revathy/BlueSTARR/test/data/K562/logfc/chr1-b-tal_gata-b-ap1-fc.txt\n",
    "\n",
    "python /hpc/home/rv103/revathy/BlueSTARR/test/scripts/K562_test-variants-fc.py \\\n",
    "/datacommons/igvf-pm/K562/full-set/K562 \\\n",
    "/hpc/home/rv103/revathy/BlueSTARR/test/data/K562/generated-seq/chr1-b-tal_gata-f-ap1.txt \\\n",
    "/hpc/home/rv103/revathy/BlueSTARR/test/data/K562/logfc/chr1-b-tal_gata-f-ap1-fc.txt\n",
    "\n",
    "python /hpc/home/rv103/revathy/BlueSTARR/test/scripts/K562_test-variants-fc.py \\\n",
    "/datacommons/igvf-pm/K562/full-set/K562 \\\n",
    "/hpc/home/rv103/revathy/BlueSTARR/test/data/K562/generated-seq/chr1-f-tal_gata-b-ap1.txt \\\n",
    "/hpc/home/rv103/revathy/BlueSTARR/test/data/K562/logfc/chr1-f-tal_gata-b-ap1-fc.txt"
   ]
  },
  {
   "cell_type": "code",
   "execution_count": 7,
   "id": "661a4d09-dc29-4026-a30c-1431037af319",
   "metadata": {},
   "outputs": [
    {
     "name": "stdout",
     "output_type": "stream",
     "text": [
      "Writing /hpc/home/rv103/revathy/BlueSTARR/test/scripts/K562_TAL_GATA_AP1_logfc_v1.q\n"
     ]
    }
   ],
   "source": [
    "%%writefile /hpc/home/rv103/revathy/BlueSTARR/test/scripts/K562_TAL_GATA_AP1_logfc_v1.q\n",
    "#!/bin/sh\n",
    "#\n",
    "#SBATCH --get-user-env\n",
    "#SBATCH -J logfc\n",
    "#SBATCH --mail-user=rv103@duke.edu\n",
    "#SBATCH --mail-type=END,FAIL\n",
    "#SBATCH --gres=gpu:1\n",
    "#SBATCH -p majoroslab-gpu,scavenger-gpu\n",
    "#SBATCH --nice=100\n",
    "#SBATCH --mem=102400\n",
    "#SBATCH --cpus-per-task=1\n",
    "#SBATCH -o /hpc/home/rv103/revathy/BlueSTARR/test/logs/K562_TAL_GATA_AP1_logfc.out\n",
    "#SBATCH -e /hpc/home/rv103/revathy/BlueSTARR/test/logs/K562_TAL_GATA_AP1_logfc.err\n",
    "\n",
    "python /hpc/home/rv103/revathy/BlueSTARR/test/scripts/K562_test-variants-fc.py \\\n",
    "/datacommons/igvf-pm/K562/full-set/K562 \\\n",
    "/hpc/home/rv103/revathy/BlueSTARR/test/data/K562/generated-seq/chr1-b-tal_gata-b-ap1.txt \\\n",
    "/hpc/home/rv103/revathy/BlueSTARR/test/data/K562/logfc/chr1-b-tal_gata-b-ap1-fc.txt"
   ]
  },
  {
   "cell_type": "code",
   "execution_count": 13,
   "id": "84c31228-a587-4648-af89-f93bb38b9076",
   "metadata": {},
   "outputs": [
    {
     "name": "stdout",
     "output_type": "stream",
     "text": [
      "7200 /hpc/home/rv103/revathy/BlueSTARR/test/data/K562/logfc/chr1-f-tal_gata-f-ap1-fc.txt\n"
     ]
    }
   ],
   "source": [
    "!wc -l /hpc/home/rv103/revathy/BlueSTARR/test/data/K562/logfc/chr1-f-tal_gata-f-ap1-fc.txt"
   ]
  },
  {
   "cell_type": "code",
   "execution_count": 15,
   "id": "5ab07726-cc14-4d0b-9f81-2566da21e79d",
   "metadata": {},
   "outputs": [
    {
     "name": "stdout",
     "output_type": "stream",
     "text": [
      "7200 /hpc/home/rv103/revathy/BlueSTARR/test/data/K562/generated-seq/chr1-f-tal_gata-f-ap1.txt\n"
     ]
    }
   ],
   "source": [
    "!wc -l /hpc/home/rv103/revathy/BlueSTARR/test/data/K562/generated-seq/chr1-f-tal_gata-f-ap1.txt"
   ]
  },
  {
   "cell_type": "markdown",
   "id": "b917d39e-97a5-4726-9b2c-3f1fd49982c2",
   "metadata": {},
   "source": [
    "#### ANOVA to test between the different step positions"
   ]
  },
  {
   "cell_type": "code",
   "execution_count": 2,
   "id": "375d617e-979f-46dc-8188-3ec5632ea305",
   "metadata": {},
   "outputs": [
    {
     "name": "stdout",
     "output_type": "stream",
     "text": [
      "             sum_sq      df          F        PR(>F)\n",
      "position   3.478100     1.0  259.42285  2.287663e-57\n",
      "Residual  96.504093  7198.0        NaN           NaN\n"
     ]
    }
   ],
   "source": [
    "import pandas as pd\n",
    "import numpy as np\n",
    "import seaborn as sns\n",
    "import matplotlib.pyplot as plt\n",
    "import statsmodels.api as sm\n",
    "from statsmodels.formula.api import ols\n",
    "# plt.figure(figsize=(8,8))\n",
    "\n",
    "# sns.set_style(\"ticks\", {\"xtick.major.size\": 8, \"ytick.major.size\": 8})\n",
    "# sns.set_context(\"talk\", font_scale=0.8)\n",
    "\n",
    "\n",
    "mutated_seq_with_score = pd.read_csv('/hpc/home/rv103/revathy/BlueSTARR/test/data/K562/logfc/chr1-b-tal_gata-b-ap1-fc.txt', sep='\\t', \n",
    "                 names=['location','ref_score','sequence','position'])\n",
    "background_sequence = pd.read_csv('/hpc/home/rv103/revathy/BlueSTARR/test/data/K562/generated-seq/chr1-b-tal_gata-b-ap1.txt', sep='\\t',\n",
    "                                 names=['location','ref_allele','allele','sequence','position','background_ref_score'])\n",
    "\n",
    "mutated_seq_with_score['logFC'] = mutated_seq_with_score['ref_score'] - background_sequence['background_ref_score']\n",
    "\n",
    "# for i in mutated_seq_with_score.position.unique():\n",
    "#     group_mutated_seq_with_score[mutated_seq_with_score['position']==23]\n",
    "\n",
    "model = ols('logFC ~ position', data=mutated_seq_with_score).fit()\n",
    "anova_table = sm.stats.anova_lm(model, typ=2)\n",
    "\n",
    "print(anova_table)"
   ]
  },
  {
   "cell_type": "markdown",
   "id": "17b8170b-6b28-4d86-834d-13beaa7c74c0",
   "metadata": {},
   "source": [
    "#### Interactions with attention layer"
   ]
  },
  {
   "cell_type": "code",
   "execution_count": 1,
   "id": "6f836588-a806-45d0-9216-ecfef1c88a51",
   "metadata": {},
   "outputs": [
    {
     "name": "stdout",
     "output_type": "stream",
     "text": [
      "Writing /hpc/home/rv103/revathy/BlueSTARR/test/scripts/K562_TAL_GATA_AP1_attention_logfc.q\n"
     ]
    }
   ],
   "source": [
    "%%writefile /hpc/home/rv103/revathy/BlueSTARR/test/scripts/K562_TAL_GATA_AP1_attention_logfc.q\n",
    "#!/bin/sh\n",
    "#\n",
    "#SBATCH --get-user-env\n",
    "#SBATCH -J logfc\n",
    "#SBATCH --mail-user=rv103@duke.edu\n",
    "#SBATCH --mail-type=END,FAIL\n",
    "#SBATCH --gres=gpu:1\n",
    "#SBATCH -p majoroslab-gpu,scavenger-gpu\n",
    "#SBATCH --nice=100\n",
    "#SBATCH --mem=102400\n",
    "#SBATCH --cpus-per-task=1\n",
    "#SBATCH -o /hpc/home/rv103/revathy/BlueSTARR/test/logs/K562_TAL_GATA_AP1_attention_logfc.out\n",
    "#SBATCH -e /hpc/home/rv103/revathy/BlueSTARR/test/logs/K562_TAL_GATA_AP1_attention_logfc.err\n",
    "#\n",
    "python /hpc/home/rv103/revathy/BlueSTARR/test/scripts/K562_test-variants-fc.py \\\n",
    "/hpc/home/rv103/revathy/BlueSTARR/test/model/K562/full-set/K562 \\\n",
    "/hpc/home/rv103/revathy/BlueSTARR/test/data/K562/generated-seq/chr1-f-tal_gata-f-ap1.txt \\\n",
    "/hpc/home/rv103/revathy/BlueSTARR/test/data/K562/logfc/chr1-f-tal_gata-f-ap1-attention-fc.txt\n",
    "\n",
    "python /hpc/home/rv103/revathy/BlueSTARR/test/scripts/K562_test-variants-fc.py \\\n",
    "/hpc/home/rv103/revathy/BlueSTARR/test/model/K562/full-set/K562 \\\n",
    "/hpc/home/rv103/revathy/BlueSTARR/test/data/K562/generated-seq/chr1-b-tal_gata-b-ap1.txt \\\n",
    "/hpc/home/rv103/revathy/BlueSTARR/test/data/K562/logfc/chr1-b-tal_gata-b-ap1-attention-fc.txt\n",
    "\n",
    "python /hpc/home/rv103/revathy/BlueSTARR/test/scripts/K562_test-variants-fc.py \\\n",
    "/hpc/home/rv103/revathy/BlueSTARR/test/model/K562/full-set/K562 \\\n",
    "/hpc/home/rv103/revathy/BlueSTARR/test/data/K562/generated-seq/chr1-b-tal_gata-f-ap1.txt \\\n",
    "/hpc/home/rv103/revathy/BlueSTARR/test/data/K562/logfc/chr1-b-tal_gata-f-ap1-attention-fc.txt\n",
    "\n",
    "python /hpc/home/rv103/revathy/BlueSTARR/test/scripts/K562_test-variants-fc.py \\\n",
    "/hpc/home/rv103/revathy/BlueSTARR/test/model/K562/full-set/K562 \\\n",
    "/hpc/home/rv103/revathy/BlueSTARR/test/data/K562/generated-seq/chr1-f-tal_gata-b-ap1.txt \\\n",
    "/hpc/home/rv103/revathy/BlueSTARR/test/data/K562/logfc/chr1-f-tal_gata-b-ap1-attention-fc.txt"
   ]
  },
  {
   "cell_type": "code",
   "execution_count": 4,
   "id": "34b882af-f349-492b-aecb-172ca5c74871",
   "metadata": {},
   "outputs": [
    {
     "data": {
      "text/plain": [
       "array([ 23,  43,  63,  83, 103, 123, 143, 163, 183, 203, 223, 243])"
      ]
     },
     "execution_count": 4,
     "metadata": {},
     "output_type": "execute_result"
    }
   ],
   "source": [
    "import numpy as np\n",
    "step = 20\n",
    "distance = np.arange(23, 244, step)\n",
    "\n",
    "distance"
   ]
  },
  {
   "cell_type": "code",
   "execution_count": 8,
   "id": "745fac04-4e1b-44a5-be39-95253eb6fc93",
   "metadata": {},
   "outputs": [
    {
     "name": "stdout",
     "output_type": "stream",
     "text": [
      "/hpc/home/rv103/revathy/BlueSTARR/test/data/K562/logfc/chr1-b-tal_gata-b-ap1-attention-fc.txt\n",
      "/hpc/home/rv103/revathy/BlueSTARR/test/data/K562/logfc/chr1-b-tal_gata-f-ap1-attention-fc.txt\n",
      "/hpc/home/rv103/revathy/BlueSTARR/test/data/K562/logfc/chr1-f-tal_gata-b-ap1-attention-fc.txt\n",
      "/hpc/home/rv103/revathy/BlueSTARR/test/data/K562/logfc/chr1-f-tal_gata-f-ap1-attention-fc.txt\n"
     ]
    }
   ],
   "source": [
    "!ls /hpc/home/rv103/revathy/BlueSTARR/test/data/K562/logfc/*tal*gata*ap1*attention*"
   ]
  },
  {
   "cell_type": "markdown",
   "id": "8c65cfae-d243-404b-b05c-423ba44cee56",
   "metadata": {},
   "source": [
    "## TAL and GATA interations\n",
    "\n",
    "Increasing the distance between TAL1 and GATA4"
   ]
  },
  {
   "cell_type": "code",
   "execution_count": 1,
   "id": "528092de-c7d9-475e-a13f-eb2a0b4ba1cb",
   "metadata": {},
   "outputs": [
    {
     "name": "stdout",
     "output_type": "stream",
     "text": [
      "Overwriting /hpc/home/rv103/revathy/BlueSTARR/test/scripts/BlueSTARR/K562_TAL_GATA_enhancer_seq_v2.py\n"
     ]
    }
   ],
   "source": [
    "%%writefile /hpc/home/rv103/revathy/BlueSTARR/test/scripts/BlueSTARR/K562_TAL_GATA_enhancer_seq_v2.py\n",
    "\n",
    "\"\"\" This script explores the TAL1 GATA interation in the TAL1_GATA complex when the distance between TAL and GATA is varied\"\"\"\n",
    "\n",
    "import pandas as pd\n",
    "import numpy as np\n",
    "import sys\n",
    "import os\n",
    "\n",
    "## generate enhancer sequence by chromosome and save as the format of test-variant.py input file\n",
    "\n",
    "forward_tal1 = 'CTGG'\n",
    "backward_tal1 = 'CCAG'\n",
    "\n",
    "forward_gata = 'ACAGATAAGG' \n",
    "backward_gata = 'CCTTATCTGT'\n",
    "\n",
    "step = 1\n",
    "distance = np.arange(6, 16, step)\n",
    "\n",
    "\n",
    "def gen_seq(tal1,gata,df,start):\n",
    "    ls_loc = []\n",
    "    ls_score = []\n",
    "    ls_distance = []\n",
    "    ls_seq = []\n",
    "    ls_ref = []\n",
    "    ls_allele = []\n",
    "\n",
    "    for i in range(len(df)):\n",
    "        seq = df.loc[i,'sequence']\n",
    "\n",
    "        for j in range(len(distance)):\n",
    "            ls_loc.append(df.loc[i,'location'])\n",
    "            ls_score.append(df.loc[i,'refScore'])\n",
    "            ls_distance.append(distance[j])\n",
    "            # fix ap1, move gata\n",
    "            seq_tmp = seq[:start-1]+tal1+seq[start+len(tal1)-1:start+distance[j]-1]+gata+seq[start+distance[j]-1+len(gata):]\n",
    "            if len(seq_tmp)!=300:\n",
    "                raise Exception('length error')\n",
    "            ls_seq.append(seq_tmp)\n",
    "            # fix gr, move ap1\n",
    "            # ls_seq.append(seq[:start-1]+gr+seq[start+len(gr)-1:start+distance[j]-1]+ap1+seq[start+distance[j]-1+len(ap1):])\n",
    "            ls_ref.append('ref='+seq_tmp[150])\n",
    "            ls_allele.append(seq_tmp[150])\n",
    "\n",
    "\n",
    "    return pd.DataFrame({'location':ls_loc,\n",
    "                         'ref':ls_ref,\n",
    "                         'allele':ls_allele,\n",
    "                         'sequence':ls_seq,\n",
    "                         'distance':ls_distance,\n",
    "                         'score':ls_score\n",
    "                         })\n",
    "\n",
    "\n",
    "\n",
    "def main(ref_seq_dir,output_dir,num_seq,start):\n",
    "\n",
    "    ref_seq_files = [f for f in os.listdir(ref_seq_dir) if f.endswith('.txt')]\n",
    "    for ref_seq in ref_seq_files:\n",
    "        chromosome = ref_seq.split('.')[0]\n",
    "\n",
    "        df = pd.read_csv(ref_seq_dir+'/'+ref_seq, sep='\\t', header=None)\n",
    "        df.columns = ['location','refScore','sequence']\n",
    "        df = df.sort_values(by = 'refScore')\n",
    "        df = df.reset_index(drop = True)\n",
    "        df = df.iloc[:num_seq,:]\n",
    "\n",
    "        gen_seq(forward_tal1,forward_gata,df,start).to_csv(output_dir+'/'+chromosome+'-f-tal1-f-gata.txt', sep = '\\t', header = None, index = False)\n",
    "        gen_seq(forward_tal1,backward_gata,df,start).to_csv(output_dir+'/'+chromosome+'-f-tal1-b-gata.txt', sep = '\\t', header = None, index = False)\n",
    "        gen_seq(backward_tal1,forward_gata,df,start).to_csv(output_dir+'/'+chromosome+'-b-tal1-f-gata.txt', sep = '\\t', header = None, index = False)\n",
    "        gen_seq(backward_tal1,backward_gata,df,start).to_csv(output_dir+'/'+chromosome+'-b-tal1-b-gata.txt', sep = '\\t', header = None, index = False)\n",
    "\n",
    "if(len(sys.argv)!=5):\n",
    "    exit(ProgramName.get()+\" <ref_seq_score_dir> <output_dir> <num_seq> <start_pos_ap1>\\n\")\n",
    "(ref_seq_dir, output_dir, num_seq, start)=sys.argv[1:]\n",
    "main(ref_seq_dir, output_dir, int(num_seq), int(start))"
   ]
  },
  {
   "cell_type": "code",
   "execution_count": 2,
   "id": "d4004c72-db2b-4a17-a227-3a37066ffaa4",
   "metadata": {},
   "outputs": [
    {
     "name": "stdout",
     "output_type": "stream",
     "text": [
      "Overwriting /hpc/home/rv103/revathy/BlueSTARR/test/scripts/BlueSTARR/K562_TAL_GATA_enhancer_seq_v2.q\n"
     ]
    }
   ],
   "source": [
    "%%writefile /hpc/home/rv103/revathy/BlueSTARR/test/scripts/BlueSTARR/K562_TAL_GATA_enhancer_seq_v2.q\n",
    "#!/bin/sh\n",
    "#\n",
    "#SBATCH --get-user-env\n",
    "#SBATCH -J enhancer_seq\n",
    "#SBATCH --mail-user=rv103@duke.edu\n",
    "#SBATCH --mail-type=END,FAIL\n",
    "#SBATCH --gres=gpu:1\n",
    "#SBATCH -p majoroslab-gpu,scavenger-gpu\n",
    "#SBATCH --nice=100\n",
    "#SBATCH --mem=102400\n",
    "#SBATCH --cpus-per-task=1\n",
    "#SBATCH -o /hpc/home/rv103/revathy/BlueSTARR/test/logs/K562_TAL_GATA_enhancer_seq_v2.out\n",
    "#SBATCH -e /hpc/home/rv103/revathy/BlueSTARR/test/logs/K562_TAL_GATA_enhancer_seq_v2.err\n",
    "#\n",
    "python /hpc/home/rv103/revathy/BlueSTARR/test/scripts/BlueSTARR/K562_TAL_GATA_enhancer_seq_v2.py \\\n",
    "/hpc/home/rv103/revathy/BlueSTARR/test/data/K562/ref_score \\\n",
    "/hpc/home/rv103/revathy/BlueSTARR/test/data/K562/generated-seq 600 150 "
   ]
  },
  {
   "cell_type": "code",
   "execution_count": 5,
   "id": "5004d4b7-7b9d-4268-ba08-0e3374476577",
   "metadata": {},
   "outputs": [
    {
     "name": "stdout",
     "output_type": "stream",
     "text": [
      "Overwriting /hpc/home/rv103/revathy/BlueSTARR/test/scripts/K562_TAL_GATA_logfc.q\n"
     ]
    }
   ],
   "source": [
    "%%writefile /hpc/home/rv103/revathy/BlueSTARR/test/scripts/K562_TAL_GATA_logfc.q\n",
    "#!/bin/sh\n",
    "#\n",
    "#SBATCH --get-user-env\n",
    "#SBATCH -J logfc\n",
    "#SBATCH --mail-user=rv103@duke.edu\n",
    "#SBATCH --mail-type=END,FAIL\n",
    "#SBATCH --gres=gpu:1\n",
    "#SBATCH -p majoroslab-gpu,scavenger-gpu\n",
    "#SBATCH --nice=100\n",
    "#SBATCH --mem=102400\n",
    "#SBATCH --cpus-per-task=1\n",
    "#SBATCH -o /hpc/home/rv103/revathy/BlueSTARR/test/logs/K562_TAL_GATA_logfc.out\n",
    "#SBATCH -e /hpc/home/rv103/revathy/BlueSTARR/test/logs/K562_TAL_GATA_logfc.err\n",
    "#\n",
    "python /hpc/home/rv103/revathy/BlueSTARR/test/scripts/K562_test-variants-fc.py  \\\n",
    "/datacommons/igvf-pm/K562/full-set/K562 \\\n",
    "/hpc/home/rv103/revathy/BlueSTARR/test/data/K562/generated-seq/chr1-f-tal1-f-gata.txt \\\n",
    "/hpc/home/rv103/revathy/BlueSTARR/test/data/K562/logfc/chr1-f-tal1-f-gata-fc.txt"
   ]
  },
  {
   "cell_type": "code",
   "execution_count": 1,
   "id": "d368eb1e-4216-407d-87ff-360619120745",
   "metadata": {},
   "outputs": [
    {
     "name": "stdout",
     "output_type": "stream",
     "text": [
      "600 /hpc/home/rv103/revathy/BlueSTARR/test/data/K562/logfc/chr1-b-tal1-f-gata-fc.txt\n"
     ]
    }
   ],
   "source": [
    "!wc -l /hpc/home/rv103/revathy/BlueSTARR/test/data/K562/logfc/chr1-b-tal1-f-gata-fc.txt"
   ]
  },
  {
   "cell_type": "code",
   "execution_count": null,
   "id": "0199bf3f-57f7-4c76-bfbb-309bd3494a07",
   "metadata": {},
   "outputs": [],
   "source": []
  },
  {
   "cell_type": "markdown",
   "id": "01b35e96-6f59-4928-935d-5311b2ea6736",
   "metadata": {},
   "source": [
    "### Interaction between GATA4 and RUNX4"
   ]
  },
  {
   "cell_type": "code",
   "execution_count": 5,
   "id": "429fd970-a3d0-41da-a911-d0aa7f5a9cd4",
   "metadata": {},
   "outputs": [
    {
     "name": "stdout",
     "output_type": "stream",
     "text": [
      "Overwriting /hpc/home/rv103/revathy/BlueSTARR/test/scripts/BlueSTARR/K562_RUNX_GATA_enhancer_seq.py\n"
     ]
    }
   ],
   "source": [
    "%%writefile /hpc/home/rv103/revathy/BlueSTARR/test/scripts/BlueSTARR/K562_RUNX_GATA_enhancer_seq.py\n",
    "\n",
    "\"\"\" This script explores the TAL1 GATA interation in the TAL1_GATA complex when the distance between RUNX4 and GATA4 is varied\"\"\"\n",
    "\n",
    "import pandas as pd\n",
    "import numpy as np\n",
    "import sys\n",
    "import os\n",
    "\n",
    "## generate enhancer sequence by chromosome and save as the format of test-variant.py input file\n",
    "\n",
    "forward_runx = 'TTTGTGGTTT'\n",
    "backward_runx = 'AAACCACAAA'\n",
    "\n",
    "forward_gata = 'ACAGATAAGG' \n",
    "backward_gata = 'CCTTATCTGT'\n",
    "\n",
    "step = 20\n",
    "distance = np.arange(23, 244, step)\n",
    "\n",
    "\n",
    "def gen_seq(runx,gata,df,start):\n",
    "    ls_loc = []\n",
    "    ls_score = []\n",
    "    ls_distance = []\n",
    "    ls_seq = []\n",
    "    ls_ref = []\n",
    "    ls_allele = []\n",
    "\n",
    "    for i in range(len(df)):\n",
    "        seq = df.loc[i,'sequence']\n",
    "\n",
    "        for j in range(len(distance)):\n",
    "            ls_loc.append(df.loc[i,'location'])\n",
    "            ls_score.append(df.loc[i,'refScore'])\n",
    "            ls_distance.append(distance[j])\n",
    "            # fix ap1, move gata\n",
    "            seq_tmp = seq[:start-1]+runx+seq[start+len(runx)-1:start+distance[j]-1]+gata+seq[start+distance[j]-1+len(gata):]\n",
    "            if len(seq_tmp)!=300:\n",
    "                raise Exception('length error')\n",
    "            ls_seq.append(seq_tmp)\n",
    "            # fix gr, move ap1\n",
    "            # ls_seq.append(seq[:start-1]+gr+seq[start+len(gr)-1:start+distance[j]-1]+ap1+seq[start+distance[j]-1+len(ap1):])\n",
    "            ls_ref.append('ref='+seq_tmp[150])\n",
    "            ls_allele.append(seq_tmp[150])\n",
    "\n",
    "\n",
    "    return pd.DataFrame({'location':ls_loc,\n",
    "                         'ref':ls_ref,\n",
    "                         'allele':ls_allele,\n",
    "                         'sequence':ls_seq,\n",
    "                         'distance':ls_distance,\n",
    "                         'score':ls_score\n",
    "                         })\n",
    "\n",
    "\n",
    "\n",
    "def main(ref_seq_dir,output_dir,num_seq,start):\n",
    "\n",
    "    ref_seq_files = [f for f in os.listdir(ref_seq_dir) if f.endswith('.txt')]\n",
    "    for ref_seq in ref_seq_files:\n",
    "        chromosome = ref_seq.split('.')[0]\n",
    "\n",
    "        df = pd.read_csv(ref_seq_dir+'/'+ref_seq, sep='\\t', header=None)\n",
    "        df.columns = ['location','refScore','sequence']\n",
    "        df = df.sort_values(by = 'refScore')\n",
    "        df = df.reset_index(drop = True)\n",
    "        df = df.iloc[:num_seq,:]\n",
    "\n",
    "        gen_seq(forward_runx,forward_gata,df,start).to_csv(output_dir+'/'+chromosome+'-f-runx4-f-gata.txt', sep = '\\t', header = None, index = False)\n",
    "        gen_seq(forward_runx,backward_gata,df,start).to_csv(output_dir+'/'+chromosome+'-f-runx4-b-gata.txt', sep = '\\t', header = None, index = False)\n",
    "        gen_seq(backward_runx,forward_gata,df,start).to_csv(output_dir+'/'+chromosome+'-b-runx4-f-gata.txt', sep = '\\t', header = None, index = False)\n",
    "        gen_seq(backward_runx,backward_gata,df,start).to_csv(output_dir+'/'+chromosome+'-b-runx4-b-gata.txt', sep = '\\t', header = None, index = False)\n",
    "\n",
    "if(len(sys.argv)!=5):\n",
    "    exit(ProgramName.get()+\" <ref_seq_score_dir> <output_dir> <num_seq> <start_pos_ap1>\\n\")\n",
    "(ref_seq_dir, output_dir, num_seq, start)=sys.argv[1:]\n",
    "main(ref_seq_dir, output_dir, int(num_seq), int(start))"
   ]
  },
  {
   "cell_type": "code",
   "execution_count": 4,
   "id": "46b5aafe-2aae-40fb-968d-e3c0af8d85df",
   "metadata": {},
   "outputs": [
    {
     "name": "stdout",
     "output_type": "stream",
     "text": [
      "Writing /hpc/home/rv103/revathy/BlueSTARR/test/scripts/BlueSTARR/K562_RUNX_GATA_enhancer_seq.q\n"
     ]
    }
   ],
   "source": [
    "%%writefile /hpc/home/rv103/revathy/BlueSTARR/test/scripts/BlueSTARR/K562_RUNX_GATA_enhancer_seq.q\n",
    "#!/bin/sh\n",
    "#\n",
    "#SBATCH --get-user-env\n",
    "#SBATCH -J runx_gata_enhancer_seq\n",
    "#SBATCH --mail-user=rv103@duke.edu\n",
    "#SBATCH --mail-type=END,FAIL\n",
    "#SBATCH --gres=gpu:1\n",
    "#SBATCH -p majoroslab-gpu,scavenger-gpu\n",
    "#SBATCH --nice=100\n",
    "#SBATCH --mem=102400\n",
    "#SBATCH --cpus-per-task=1\n",
    "#SBATCH -o /hpc/home/rv103/revathy/BlueSTARR/test/logs/K562_TAL_GATA_enhancer_seq_v2.out\n",
    "#SBATCH -e /hpc/home/rv103/revathy/BlueSTARR/test/logs/K562_TAL_GATA_enhancer_seq_v2.err\n",
    "#\n",
    "python /hpc/home/rv103/revathy/BlueSTARR/test/scripts/BlueSTARR/K562_RUNX_GATA_enhancer_seq.py \\\n",
    "/hpc/home/rv103/revathy/BlueSTARR/test/data/K562/ref_score \\\n",
    "/hpc/home/rv103/revathy/BlueSTARR/test/data/K562/generated-seq 50 10 "
   ]
  },
  {
   "cell_type": "code",
   "execution_count": 6,
   "id": "c187a784-958d-413c-be33-8f1f304438aa",
   "metadata": {},
   "outputs": [
    {
     "name": "stdout",
     "output_type": "stream",
     "text": [
      "/hpc/home/rv103/revathy/BlueSTARR/test/data/K562/generated-seq/chr1-b-runx4-b-gata.txt\n",
      "/hpc/home/rv103/revathy/BlueSTARR/test/data/K562/generated-seq/chr1-b-runx4-f-gata.txt\n",
      "/hpc/home/rv103/revathy/BlueSTARR/test/data/K562/generated-seq/chr1-f-runx4-b-gata.txt\n",
      "/hpc/home/rv103/revathy/BlueSTARR/test/data/K562/generated-seq/chr1-f-runx4-f-gata.txt\n"
     ]
    }
   ],
   "source": [
    "!ls /hpc/home/rv103/revathy/BlueSTARR/test/data/K562/generated-seq/*runx*"
   ]
  },
  {
   "cell_type": "code",
   "execution_count": 7,
   "id": "1a98017a-e5fe-4f54-a965-e7917aa0bfe4",
   "metadata": {},
   "outputs": [
    {
     "name": "stdout",
     "output_type": "stream",
     "text": [
      "Writing /hpc/home/rv103/revathy/BlueSTARR/test/scripts/K562_RUNX_GATA_logfc.q\n"
     ]
    }
   ],
   "source": [
    "%%writefile /hpc/home/rv103/revathy/BlueSTARR/test/scripts/K562_RUNX_GATA_logfc.q\n",
    "#!/bin/sh\n",
    "#\n",
    "#SBATCH --get-user-env\n",
    "#SBATCH -J runx_logfc\n",
    "#SBATCH --mail-user=rv103@duke.edu\n",
    "#SBATCH --mail-type=END,FAIL\n",
    "#SBATCH --gres=gpu:1\n",
    "#SBATCH -p majoroslab-gpu,scavenger-gpu\n",
    "#SBATCH --nice=100\n",
    "#SBATCH --mem=102400\n",
    "#SBATCH --cpus-per-task=1\n",
    "#SBATCH -o /hpc/home/rv103/revathy/BlueSTARR/test/logs/K562_RUNX_GATA_logfc.out\n",
    "#SBATCH -e /hpc/home/rv103/revathy/BlueSTARR/test/logs/K562_RUNX_GATA_logfc.err\n",
    "#\n",
    "python /hpc/home/rv103/revathy/BlueSTARR/test/scripts/K562_test-variants-fc.py \\\n",
    "/datacommons/igvf-pm/K562/full-set/K562 \\\n",
    "/hpc/home/rv103/revathy/BlueSTARR/test/data/K562/generated-seq/chr1-f-runx4-f-gata.txt \\\n",
    "/hpc/home/rv103/revathy/BlueSTARR/test/data/K562/logfc/chr1-f-runx4-f-gata-fc.txt\n",
    "\n",
    "python /hpc/home/rv103/revathy/BlueSTARR/test/scripts/K562_test-variants-fc.py \\\n",
    "/datacommons/igvf-pm/K562/full-set/K562 \\\n",
    "/hpc/home/rv103/revathy/BlueSTARR/test/data/K562/generated-seq/chr1-b-runx4-b-gata.txt \\\n",
    "/hpc/home/rv103/revathy/BlueSTARR/test/data/K562/logfc/chr1-b-runx4-b-gata-fc.txt\n",
    "\n",
    "python /hpc/home/rv103/revathy/BlueSTARR/test/scripts/K562_test-variants-fc.py \\\n",
    "/datacommons/igvf-pm/K562/full-set/K562 \\\n",
    "/hpc/home/rv103/revathy/BlueSTARR/test/data/K562/generated-seq/chr1-b-runx4-f-gata.txt \\\n",
    "/hpc/home/rv103/revathy/BlueSTARR/test/data/K562/logfc/chr1-b-runx4-f-gata-fc.txt\n",
    "\n",
    "python /hpc/home/rv103/revathy/BlueSTARR/test/scripts/K562_test-variants-fc.py \\\n",
    "/datacommons/igvf-pm/K562/full-set/K562 \\\n",
    "/hpc/home/rv103/revathy/BlueSTARR/test/data/K562/generated-seq/chr1-f-runx4-b-gata.txt \\\n",
    "/hpc/home/rv103/revathy/BlueSTARR/test/data/K562/logfc/chr1-f-runx4-b-gata-fc.txt"
   ]
  },
  {
   "cell_type": "code",
   "execution_count": 9,
   "id": "70187e58-8428-442c-86cb-5a2989c39a09",
   "metadata": {},
   "outputs": [
    {
     "data": {
      "text/plain": [
       "<Figure size 576x576 with 0 Axes>"
      ]
     },
     "metadata": {},
     "output_type": "display_data"
    },
    {
     "data": {
      "image/png": "[encoded data removed]",
      "text/plain": [
       "<Figure size 720x576 with 1 Axes>"
      ]
     },
     "metadata": {},
     "output_type": "display_data"
    }
   ],
   "source": [
    "import pandas as pd\n",
    "import numpy as np\n",
    "import seaborn as sns\n",
    "import matplotlib.pyplot as plt\n",
    "plt.figure(figsize=(8,8))\n",
    "\n",
    "sns.set_style(\"ticks\", {\"xtick.major.size\": 8, \"ytick.major.size\": 8})\n",
    "sns.set_context(\"talk\", font_scale=0.8)\n",
    "\n",
    "\n",
    "mutated_seq_with_score = pd.read_csv('/hpc/home/rv103/revathy/BlueSTARR/test/data/K562/logfc/chr1-f-runx4-f-gata-fc.txt', sep='\\t', \n",
    "                 names=['location','ref_score','sequence','background_ref_score'])\n",
    "\n",
    "mutated_seq_with_score['logFC'] = mutated_seq_with_score['ref_score'] - mutated_seq_with_score['background_ref_score']\n",
    "# mutated_seq_with_score['gata_sequence'] = mutated_seq_with_score['sequence'].str[149:159]\n",
    "# mutated_seq_with_score['bp_position'] = np.tile(np.repeat(np.arange(150,160),3),len(mutated_seq_with_score['location'].unique()))\n",
    "# mutated_seq_with_score['bp_nucleotide'] = [sequence[bp_position-1] for sequence, bp_position in zip(mutated_seq_with_score['sequence'], mutated_seq_with_score['bp_position'])]\n",
    "# mutated_seq_with_score\n",
    "\n",
    "plt.figure(figsize=(10,8))\n",
    "plt.hist(mutated_seq_with_score['background_ref_score'], density=True, bins=100, alpha=0.5,  color='blue', label=\"reference_sequences\")\n",
    "plt.hist(mutated_seq_with_score['ref_score'], density=True, bins=100, alpha=0.5, color='red', label=\"mutated_sequences\")\n",
    "plt.hist(mutated_seq_with_score['logFC'], density=True, bins=100, alpha=0.5,  color='green', label=\"logFC\")\n",
    "sns.kdeplot(mutated_seq_with_score['background_ref_score'], color='darkblue')\n",
    "sns.kdeplot(mutated_seq_with_score['ref_score'], color='darkred')\n",
    "sns.kdeplot(mutated_seq_with_score['logFC'], color='green')\n",
    "plt.xlabel(\"Reference Scores\", size=14)\n",
    "plt.ylabel(\"Density\", size=14)\n",
    "plt.legend(loc='upper right')\n",
    "sns.despine()\n",
    "plt.show()\n",
    "\n"
   ]
  },
  {
   "cell_type": "code",
   "execution_count": 1,
   "id": "ffc5074a-ba26-44e3-924e-39d919a103ed",
   "metadata": {},
   "outputs": [
    {
     "name": "stdout",
     "output_type": "stream",
     "text": [
      "Writing /hpc/home/rv103/revathy/cbb520/genome_tools/amino_acid_pair_analysis.q\n"
     ]
    }
   ],
   "source": [
    "%%writefile /hpc/home/rv103/revathy/cbb520/genome_tools/amino_acid_pair_analysis.q\n",
    "#!/bin/sh\n",
    "#\n",
    "#SBATCH --get-user-env\n",
    "#SBATCH -J aa_analysis\n",
    "#SBATCH --mail-user=rv103@duke.edu\n",
    "#SBATCH --mail-type=END,FAIL\n",
    "#SBATCH --gres=gpu:1\n",
    "#SBATCH -p scavenger-gpu\n",
    "#SBATCH --nice=100\n",
    "#SBATCH --mem=102400\n",
    "#SBATCH --cpus-per-task=1\n",
    "#SBATCH -o /hpc/home/rv103/revathy/cbb520/amino_acid_pairs_analysis-subset-v1.out\n",
    "#SBATCH -e /hpc/home/rv103/revathy/cbb520/amino_acid_pairs_analysis-subset-v1.err\n",
    "\n",
    "python /hpc/home/rv103/revathy/cbb520/genome_tools/amino_acid_pair_analysis.py "
   ]
  },
  {
   "cell_type": "code",
   "execution_count": null,
   "id": "1433f887-7da1-4005-9732-cd25b56cf229",
   "metadata": {},
   "outputs": [],
   "source": []
  }
 ],
 "metadata": {
  "kernelspec": {
   "display_name": "Python 3",
   "language": "python",
   "name": "python3"
  },
  "language_info": {
   "codemirror_mode": {
    "name": "ipython",
    "version": 3
   },
   "file_extension": ".py",
   "mimetype": "text/x-python",
   "name": "python",
   "nbconvert_exporter": "python",
   "pygments_lexer": "ipython3",
   "version": "3.8.8"
  }
 },
 "nbformat": 4,
 "nbformat_minor": 5
}
