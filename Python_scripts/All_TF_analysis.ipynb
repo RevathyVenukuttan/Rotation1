{
 "cells": [
  {
   "cell_type": "markdown",
   "id": "4524a392-0a9d-4af3-8448-3219dc75f79b",
   "metadata": {},
   "source": [
    "# Running the entire pipeline with all of the TF motifs\n",
    "\n",
    " - Retrieve all TF motifs from JASPAR identifies fro Homo sapiens. \n",
    " - Create mutated sequences with AP1 at a fixed location (10th position) and the 2nd motif at a varying distance from AP1 (23 to 244 with a step increase of 20) for the 300bp background sequences. This is done for all the TF motifs retrieved from the JASPAR database\n",
    " - Obtain the predicted scores of these mutated sequences using the BlueSTARR model and calculate the logFC as Mutated_seq_score - Background_seq_score\n",
    " - Plot the mean logFC for each motif as a boxplot"
   ]
  },
  {
   "cell_type": "code",
   "execution_count": 3,
   "id": "b4e89c07-428b-4db2-9c26-a632a6de9db8",
   "metadata": {},
   "outputs": [
    {
     "name": "stdout",
     "output_type": "stream",
     "text": [
      "Overwriting /hpc/home/rv103/revathy/BlueSTARR/test/scripts/retrieve_jaspar_motifs_v1.py\n"
     ]
    }
   ],
   "source": [
    "%%writefile /hpc/home/rv103/revathy/BlueSTARR/test/scripts/retrieve_jaspar_motifs_v1.py\n",
    "import requests\n",
    "import csv\n",
    "import time\n",
    "import argparse\n",
    "\n",
    "def get_motifs(base_url,params,page): \n",
    "    all_motifs = []\n",
    "    while True:\n",
    "        params['page'] = page\n",
    "        response = requests.get(base_url, params=params)\n",
    "        if response.status_code == 200:\n",
    "            motif_info = response.json()\n",
    "            motifs_data = motif_info.get('results')\n",
    "            if not motifs_data:\n",
    "                break\n",
    "            print(f\"Page {page} completed\")\n",
    "            all_motifs.extend(motifs_data)\n",
    "            page += 1  # Move to the next page\n",
    "        else:\n",
    "            print(f\"Error fetching motifs: {response.status_code}\")\n",
    "            break\n",
    "    return all_motifs\n",
    "\n",
    "def pwm_to_consensus(pwm):\n",
    "    consensus = \"\"\n",
    "    positions = range(len(pwm['A']))\n",
    "    for i in positions:  \n",
    "        max_val = -1\n",
    "        max_base = \"\"\n",
    "        for base in \"ACGT\":\n",
    "            if pwm[base][i] > max_val:\n",
    "                max_val = pwm[base][i]\n",
    "                max_base = base\n",
    "        consensus += max_base\n",
    "    return consensus\n",
    "\n",
    "def rev_comp(seq):\n",
    "    complement = {'A': 'T', 'C': 'G', 'G': 'C', 'T': 'A'}\n",
    "    return \"\".join(complement[n] for n in reversed(seq))\n",
    "\n",
    "def main(output_file):\n",
    "    base_url = \"https://jaspar.genereg.net/api/v1/matrix/\"\n",
    "    params = {'tax_id': 9606, 'page_size': 1000}\n",
    "    page = 1\n",
    "    processed_data = []\n",
    "\n",
    "    all_motifs = get_motifs(base_url, params, page)\n",
    "\n",
    "    for motif in all_motifs:\n",
    "        motif_id = motif.get('matrix_id')\n",
    "        motif_name = motif.get('name')\n",
    "        \n",
    "        pwm_url = f\"https://jaspar.genereg.net/api/v1/matrix/{motif_id}/\"\n",
    "        pwm_response = requests.get(pwm_url)\n",
    "        if pwm_response.status_code == 200:\n",
    "            motif_details = pwm_response.json()\n",
    "            print(f\"Got motif details for {motif_id}\")\n",
    "            pwm = motif_details.get('pfm')  \n",
    "            if pwm:\n",
    "                consensus_sequence = pwm_to_consensus(pwm)\n",
    "                processed_data.append([motif_id, motif_name, consensus_sequence])\n",
    "            else:\n",
    "                print(f\"PWM missing for motif {motif_id}\")\n",
    "                processed_data.append([motif_id, motif_name, \"N/A\"])\n",
    "        else:\n",
    "            print(f\"Error fetching PWM for motif {motif_id}: {pwm_response.status_code}\")\n",
    "            processed_data.append([motif_id, motif_name, \"N/A\"])\n",
    "\n",
    "\n",
    "    df = pd.DataFrame(processed_data, columns=[\"MotifID\", \"TF\", \"motif_sequence\"])\n",
    "\n",
    "    # Step 2: Add suffixes to duplicate TF names and compute reverse complement\n",
    "    df['TF_suffix'] = df.groupby('TF').cumcount() + 1\n",
    "    df['TF'] = df.apply(lambda x: f\"{x['TF']}_{x['TF_suffix']}\" if x['TF_suffix'] > 1 else x['TF'], axis=1)\n",
    "    df['reverse_sequence'] = df['motif_sequence'].apply(rev_comp)\n",
    "    df[['TF', 'motif_sequence', 'reverse_sequence']].to_csv(output_file, sep='\\t', index=False, header=False)\n",
    "    print(f\"Processed data saved to '{output_file}'.\")\n",
    "\n",
    "    \n",
    "if __name__ == \"__main__\":\n",
    "    parser = argparse.ArgumentParser(description=\"This script uses the JASPAR API to retrieve all motifs reported for Homo sapiens. The script converts the Position Weighted Matrix (PWM) scores into consensus sequence for each motif.\")\n",
    "    parser.add_argument(\"output_file\", help='Path to the output .txt file')\n",
    "    args = parser.parse_args()\n",
    "    main(args.output_file)"
   ]
  },
  {
   "cell_type": "code",
   "execution_count": 17,
   "id": "f24f2c4c-2eb1-42fe-ac55-68bd2e41f899",
   "metadata": {},
   "outputs": [
    {
     "name": "stdout",
     "output_type": "stream",
     "text": [
      "Writing /hpc/home/rv103/revathy/BlueSTARR/test/scripts/retrieve_jaspar_motifs_v1.q\n"
     ]
    }
   ],
   "source": [
    "%%writefile /hpc/home/rv103/revathy/BlueSTARR/test/scripts/retrieve_jaspar_motifs_v1.q\n",
    "#!/bin/sh\n",
    "#\n",
    "#SBATCH --get-user-env\n",
    "#SBATCH -J jaspar_motifs\n",
    "#SBATCH --mail-user=rv103@duke.edu\n",
    "#SBATCH --mail-type=END,FAIL\n",
    "#SBATCH --gres=gpu:1\n",
    "#SBATCH -p majoroslab-gpu,scavenger-gpu\n",
    "#SBATCH --nice=100\n",
    "#SBATCH --mem=102400\n",
    "#SBATCH --cpus-per-task=1\n",
    "#SBATCH -o /hpc/home/rv103/revathy/BlueSTARR/test/logs/jaspar_motifs_v1.out\n",
    "#SBATCH -e /hpc/home/rv103/revathy/BlueSTARR/test/logs/jaspar_motifs_v1.err\n",
    "#\n",
    "python /hpc/home/rv103/revathy/BlueSTARR/test/scripts/retrieve_jaspar_motifs_v1.py \\\n",
    "/hpc/home/rv103/revathy/BlueSTARR/test/data/K562/all_motifs/human_tf_pwm_consensus_sequences_v1.csv"
   ]
  },
  {
   "cell_type": "markdown",
   "id": "0a75b1b4-804f-42e5-9ac6-37437a5e89cc",
   "metadata": {},
   "source": [
    "#### Modify the consensus sequence table to differentiate between different sequences of the same motif and add the rev comp for each sequence"
   ]
  },
  {
   "cell_type": "code",
   "execution_count": 1,
   "id": "860005bb-5d70-4022-a63e-789c14439f6c",
   "metadata": {},
   "outputs": [
    {
     "name": "stdout",
     "output_type": "stream",
     "text": [
      "Writing /hpc/home/rv103/revathy/BlueSTARR/test/scripts/consensus_sequence_data_wrangling.py\n"
     ]
    }
   ],
   "source": [
    "%%writefile /hpc/home/rv103/revathy/BlueSTARR/test/scripts/consensus_sequence_data_wrangling.py\n",
    "import pandas as pd\n",
    "import argparse\n",
    "\n",
    "def rev_comp(seq):\n",
    "    complement = {'A': 'T', 'C': 'G', 'G': 'C', 'T': 'A'}\n",
    "    return \"\".join(complement[n] for n in reversed(seq))\n",
    "\n",
    "def main(infile, outfile):\n",
    "    table = pd.read_csv(infile, sep=',')\n",
    "    table['TF_suffix'] = table.groupby('Transcription Factor').cumcount() + 1\n",
    "    table['TF'] = table.apply(lambda x: f\"{x['Transcription Factor']}_{x['TF_suffix']}\" if x['TF_suffix'] > 1 else x['Transcription Factor'], axis=1)\n",
    "    table['reverse_sequence'] = table['Consensus Sequence'].apply(rev_comp)\n",
    "    table.rename(columns={'Consensus Sequence':'motif_sequence'}, inplace=True)\n",
    "    table[['TF','motif_sequence','reverse_sequence']].to_csv(outfile, sep='\\t', index=False)\n",
    "\n",
    "if __name__ == \"__main__\":\n",
    "    parser = argparse.ArgumentParser(description=\"This script wrangles the .csv file obtained from retrive_jaspar_motifs to create unique IDs for the TF motifs and also add reverse complementary sequences for the motifs. The output is a .txt file\")\n",
    "    parser.add_argument(\"infile\", help='Path to the input .CSV file')\n",
    "    parser.add_argument(\"outfile\", help='Path to the output .TXT file')\n",
    "    \n",
    "    args = parser.parse_args()\n",
    "    main(args.infile, args.outfile)"
   ]
  },
  {
   "cell_type": "markdown",
   "id": "303e7d40-9883-4ef3-8a85-8e1c459ec200",
   "metadata": {},
   "source": [
    "### Modify enhancer_seq to run all motifs in comparison to AP1"
   ]
  },
  {
   "cell_type": "code",
   "execution_count": 42,
   "id": "ea5fdb2d-88b5-4ae1-a8f5-bc54aa9dfd96",
   "metadata": {},
   "outputs": [
    {
     "name": "stdout",
     "output_type": "stream",
     "text": [
      "Overwriting /hpc/home/rv103/revathy/BlueSTARR/test/scripts/K562_enhancer_seq_all_motifs.py\n"
     ]
    }
   ],
   "source": [
    "%%writefile /hpc/home/rv103/revathy/BlueSTARR/test/scripts/K562_enhancer_seq_all_motifs.py\n",
    "import pandas as pd\n",
    "import numpy as np\n",
    "import sys\n",
    "import os\n",
    "\n",
    "## generate enhancer sequence by chromosome and save as the format of test-variant.py input file\n",
    "\n",
    "forward_ap1 = 'TGAGTCAT'\n",
    "backward_ap1 = 'ATGACTCA'\n",
    "\n",
    "step = 20\n",
    "distance = np.arange(23, 244, step)\n",
    "\n",
    "\n",
    "def gen_seq(ap1,motif2,df,start):\n",
    "    ls_loc = []\n",
    "    ls_score = []\n",
    "    ls_distance = []\n",
    "    ls_seq = []\n",
    "    ls_ref = []\n",
    "    ls_allele = []\n",
    "\n",
    "    for i in range(len(df)):\n",
    "        seq = df.loc[i,'sequence']\n",
    "\n",
    "        for j in range(len(distance)):\n",
    "            ls_loc.append(df.loc[i,'location'])\n",
    "            ls_score.append(df.loc[i,'refScore'])\n",
    "            ls_distance.append(distance[j])\n",
    "            \n",
    "            ### fix ap1, move 2nd motif\n",
    "            seq_tmp = seq[:start-1]+ap1+seq[start+len(ap1)-1:start+distance[j]-1]+motif2+seq[start+distance[j]-1+len(motif2):]\n",
    "            if len(seq_tmp)!=300:\n",
    "                raise Exception('length error')\n",
    "            ls_seq.append(seq_tmp)\n",
    "            ls_ref.append('ref='+seq_tmp[150])\n",
    "            ls_allele.append(seq_tmp[150])\n",
    "\n",
    "\n",
    "    return pd.DataFrame({'location':ls_loc,\n",
    "                         'ref':ls_ref,\n",
    "                         'allele':ls_allele,\n",
    "                         'sequence':ls_seq,\n",
    "                         'distance':ls_distance,\n",
    "                         'ref_score':ls_score\n",
    "                         })\n",
    "\n",
    "def main(ref_seq_dir,motif_sequence_file,output_dir,num_seq,start):\n",
    "\n",
    "    ref_seq_files = [f for f in os.listdir(ref_seq_dir) if f.endswith('.txt')]\n",
    "    motif_file = pd.read_csv(motif_sequence_file, sep='\\t')\n",
    "    \n",
    "    for ref_seq in ref_seq_files:\n",
    "        for i in range(len(motif_file['TF'])):\n",
    "            \n",
    "            forward_motif = motif_file['motif_sequence'][i]\n",
    "            reverse_motif = motif_file['reverse_sequence'][i]\n",
    "            motif_name = motif_file['TF'][i]\n",
    "            \n",
    "            chromosome = ref_seq.split('.')[0]\n",
    "            df = pd.read_csv(ref_seq_dir+'/'+ref_seq, sep='\\t', header=None)\n",
    "            df.columns = ['location','refScore','sequence']\n",
    "            df = df.sort_values(by = 'refScore')\n",
    "            df = df.reset_index(drop = True)\n",
    "            df = df.iloc[:num_seq,:]\n",
    "\n",
    "            gen_seq(forward_ap1,forward_motif,df,start).to_csv(output_dir+'/'+chromosome+'-f-ap1-f-'+motif_name+'.txt', sep = '\\t', header = None, index = False)\n",
    "            gen_seq(forward_ap1,reverse_motif,df,start).to_csv(output_dir+'/'+chromosome+'-f-ap1-b-'+motif_name+'.txt', sep = '\\t', header = None, index = False)\n",
    "            gen_seq(backward_ap1,forward_motif,df,start).to_csv(output_dir+'/'+chromosome+'-b-ap1-f-'+motif_name+'.txt', sep = '\\t', header = None, index = False)\n",
    "            gen_seq(backward_ap1,reverse_motif,df,start).to_csv(output_dir+'/'+chromosome+'-b-ap1-b-'+motif_name+'.txt', sep = '\\t', header = None, index = False)\n",
    "\n",
    "if(len(sys.argv)!=6):\n",
    "    exit(ProgramName.get()+\" <ref_seq_score_dir> <motif_sequence> <output_dir> <num_seq> <start_pos_ap1>\\n\")\n",
    "(ref_seq_dir, motif_sequence, output_dir, num_seq, start)=sys.argv[1:]\n",
    "main(ref_seq_dir, motif_sequence, output_dir, int(num_seq), int(start))\n"
   ]
  },
  {
   "cell_type": "code",
   "execution_count": 38,
   "id": "15a9bdb1-9fff-45ba-9c3d-bf6f539a6094",
   "metadata": {},
   "outputs": [
    {
     "name": "stdout",
     "output_type": "stream",
     "text": [
      "Overwriting /hpc/home/rv103/revathy/BlueSTARR/test/scripts/K562_all_motifs_enhancer-seq.q\n"
     ]
    }
   ],
   "source": [
    "%%writefile /hpc/home/rv103/revathy/BlueSTARR/test/scripts/K562_all_motifs_enhancer-seq.q\n",
    "#!/bin/sh\n",
    "#\n",
    "#SBATCH --get-user-env\n",
    "#SBATCH -J enhancer_seq\n",
    "#SBATCH --mail-user=rv103@duke.edu\n",
    "#SBATCH --mail-type=END,FAIL\n",
    "#SBATCH --gres=gpu:1\n",
    "#SBATCH -p majoroslab-gpu,scavenger-gpu\n",
    "#SBATCH --nice=100\n",
    "#SBATCH --mem=102400\n",
    "#SBATCH --cpus-per-task=1\n",
    "#SBATCH -o /hpc/home/rv103/revathy/BlueSTARR/test/logs/K562_all_motifs_enhancer_seq.out\n",
    "#SBATCH -e /hpc/home/rv103/revathy/BlueSTARR/test/logs/K562_all_motifs_enhancer_seq.err\n",
    "#\n",
    "python /hpc/home/rv103/revathy/BlueSTARR/test/scripts/K562_enhancer_seq_all_motifs.py \\\n",
    "/hpc/home/rv103/revathy/BlueSTARR/test/data/K562/ref_score \\\n",
    "/hpc/home/rv103/revathy/BlueSTARR/test/data/K562/all_motifs/human_tf_consensus_seq_modified.txt \\\n",
    "/hpc/home/rv103/revathy/BlueSTARR/test/data/K562/all_motifs/enhancer_sequenes 50 10 "
   ]
  },
  {
   "cell_type": "code",
   "execution_count": 61,
   "id": "dfec2ee1-aa11-4ee5-b8e7-0e7d70669935",
   "metadata": {},
   "outputs": [
    {
     "name": "stdout",
     "output_type": "stream",
     "text": [
      "Overwriting /hpc/home/rv103/revathy/BlueSTARR/test/scripts/K562_all_motifs_logfc-ff.q\n"
     ]
    }
   ],
   "source": [
    "%%writefile /hpc/home/rv103/revathy/BlueSTARR/test/scripts/K562_all_motifs_logfc-ff.q\n",
    "#!/bin/sh\n",
    "#\n",
    "#SBATCH --get-user-env\n",
    "#SBATCH -J logfc\n",
    "#SBATCH --mail-user=rv103@duke.edu\n",
    "#SBATCH --mail-type=END,FAIL\n",
    "#SBATCH --gres=gpu:1\n",
    "#SBATCH -p majoroslab-gpu,scavenger-gpu\n",
    "#SBATCH --nice=100\n",
    "#SBATCH --mem=102400\n",
    "#SBATCH --cpus-per-task=1\n",
    "#SBATCH --array=0-7           \n",
    "#SBATCH -o /hpc/home/rv103/revathy/BlueSTARR/test/logs/K562_all_motifs_logfc_%A_%a.out\n",
    "#SBATCH -e /hpc/home/rv103/revathy/BlueSTARR/test/logs/K562_all_motifs_logfc_%A_%a.err\n",
    "#\n",
    "mkdir -p /hpc/home/rv103/revathy/BlueSTARR/test/data/K562/all_motifs/logfc\n",
    "cd /hpc/home/rv103/revathy/BlueSTARR/test/data/K562/all_motifs/enhancer_sequenes/\n",
    "files=($(ls *-f-ap1-f*.txt))\n",
    "total_files=${#files[@]}\n",
    "files_per_node=$((total_files / 8))\n",
    "start_index=$((SLURM_ARRAY_TASK_ID * files_per_node))\n",
    "end_index=$((start_index + files_per_node - 1))\n",
    "for ((i=start_index; i<=end_index && i<total_files; i++)); do\n",
    "    file=${files[i]}\n",
    "    python /hpc/home/rv103/revathy/BlueSTARR/test/scripts/K562_test-variants-fc.py \\\n",
    "    /datacommons/igvf-pm/K562/full-set/K562 \\\n",
    "    /hpc/home/rv103/revathy/BlueSTARR/test/data/K562/all_motifs/enhancer_sequenes/${file} \\\n",
    "    /hpc/home/rv103/revathy/BlueSTARR/test/data/K562/all_motifs/logfc/${file/.txt/-logfc.txt}\n",
    "done"
   ]
  },
  {
   "cell_type": "code",
   "execution_count": 15,
   "id": "cd81abf1-0ea1-4e2e-968e-6c3e8c085b95",
   "metadata": {},
   "outputs": [
    {
     "name": "stdout",
     "output_type": "stream",
     "text": [
      "Overwriting /hpc/home/rv103/revathy/BlueSTARR/test/scripts/K562_all_motifs_logfc-ff-1.q\n"
     ]
    }
   ],
   "source": [
    "%%writefile /hpc/home/rv103/revathy/BlueSTARR/test/scripts/K562_all_motifs_logfc-ff-1.q\n",
    "#!/bin/sh\n",
    "#\n",
    "#SBATCH --get-user-env\n",
    "#SBATCH -J logfc\n",
    "#SBATCH --mail-user=rv103@duke.edu\n",
    "#SBATCH --mail-type=END,FAIL\n",
    "#SBATCH --gres=gpu:1\n",
    "#SBATCH -p majoroslab-gpu,scavenger-gpu\n",
    "#SBATCH --nice=100\n",
    "#SBATCH --mem=131072\n",
    "#SBATCH --cpus-per-task=2\n",
    "#SBATCH -o /hpc/home/rv103/revathy/BlueSTARR/test/logs/K562_all_motifs_logfc_v1.out\n",
    "#SBATCH -e /hpc/home/rv103/revathy/BlueSTARR/test/logs/K562_all_motifs_logfc_v1.err\n",
    "#\n",
    "mkdir -p /hpc/home/rv103/revathy/BlueSTARR/test/data/K562/all_motifs/logfc\n",
    "cd /hpc/home/rv103/revathy/BlueSTARR/test/data/K562/all_motifs/enhancer_sequenes/\n",
    "files=(chr1-f-ap1-f-ZSCAN31.txt \\\n",
    "chr1-f-ap1-f-ZSCAN4.txt \\\n",
    "chr1-f-ap1-f-ZSCAN5A_2.txt \\\n",
    "chr1-f-ap1-f-ZSCAN5A.txt \\\n",
    "chr1-f-ap1-f-ZSCAN9_2.txt \\\n",
    "chr1-f-ap1-f-ZSCAN9.txt)\n",
    "for file in ${files[@]};\n",
    "do\n",
    "python /hpc/home/rv103/revathy/BlueSTARR/test/scripts/K562_test-variants-fc.py  \\\n",
    "/datacommons/igvf-pm/K562/full-set/K562 \\\n",
    "/hpc/home/rv103/revathy/BlueSTARR/test/data/K562/all_motifs/enhancer_sequenes/${file} \\\n",
    "/hpc/home/rv103/revathy/BlueSTARR/test/data/K562/all_motifs/logfc/${file/.txt/-logfc.txt}\n",
    "done"
   ]
  },
  {
   "cell_type": "code",
   "execution_count": 19,
   "id": "53144101-798e-46c4-84dd-ee6e91e9be5f",
   "metadata": {},
   "outputs": [],
   "source": [
    "%%bash\n",
    "# List files in both directories and extract the common part of filenames\n",
    "cd /hpc/home/rv103/revathy/BlueSTARR/test/data/K562/all_motifs/\n",
    "ls /hpc/home/rv103/revathy/BlueSTARR/test/data/K562/all_motifs/enhancer_sequenes/ | grep 'chr1-f-ap1-f-' | sort > enhancer_seq_files.txt\n",
    "ls /hpc/home/rv103/revathy/BlueSTARR/test/data/K562/all_motifs/logfc/ | grep 'chr1-f-ap1-f-' | sed 's/-logfc//' | sort > logFC_files.txt\n",
    "\n",
    "# Find files present in dir1 but missing in dir2\n",
    "comm -23 enhancer_seq_files.txt logFC_files.txt \n"
   ]
  },
  {
   "cell_type": "code",
   "execution_count": 12,
   "id": "68ee5cd0-97d1-4e8d-b2ab-eecaa475007b",
   "metadata": {},
   "outputs": [
    {
     "data": {
      "image/png": "[encoded data removed]",
      "text/plain": [
       "<Figure size 432x288 with 1 Axes>"
      ]
     },
     "metadata": {
      "needs_background": "light"
     },
     "output_type": "display_data"
    }
   ],
   "source": [
    "import pandas as pd\n",
    "import numpy as np\n",
    "import matplotlib.pyplot as plt\n",
    "import seaborn as sns\n",
    "\n",
    "def read_df(path):\n",
    "    df = pd.read_csv(path, sep=\"\\t\", header=None)\n",
    "    df.columns = ['location', 'ref_score', 'sequence', 'background_ref_score']\n",
    "    df['fc'] = df['ref_score'] - df['background_ref_score']\n",
    "    df['distance'] = np.tile(np.arange(23, 244, 20), len(df) // 12)\n",
    "    df_fc = df.groupby('distance').agg(\n",
    "        mean_fc=('fc', 'mean'),\n",
    "        sd_fc=('fc', 'std')\n",
    "    ).reset_index()\n",
    "    \n",
    "    return df_fc\n",
    "\n",
    "path = '/hpc/home/rv103/revathy/BlueSTARR/test/data/K562/all_motifs/logfc/chr1-f-ap1-f-ZSCAN9-logfc.txt'\n",
    "df_fc1 = read_df(path)\n",
    "\n",
    "x = np.arange(23, 244, 20)\n",
    "plt.errorbar(x, df_fc1['mean_fc'], yerr=df_fc1['sd_fc'], fmt='-o', capsize=5, lw=1.5)\n",
    "plt.title(\"Chr1 AP1/ZSCAN9\")\n",
    "plt.ylim(-0.2, 0.5)\n",
    "plt.xlabel(\"Base Pairs between AP1 and ZSCAN9\")\n",
    "plt.ylabel(\"log2FC (AP1_ZSCAN9/Background)\")\n",
    "plt.xticks(x, rotation=45)\n",
    "plt.grid(False)\n",
    "sns.despine()\n",
    "plt.show()\n"
   ]
  },
  {
   "cell_type": "code",
   "execution_count": 4,
   "id": "c8081936-bbc0-4504-a0a4-7f83450912e0",
   "metadata": {},
   "outputs": [
    {
     "name": "stdout",
     "output_type": "stream",
     "text": [
      "Overwriting /hpc/home/rv103/revathy/BlueSTARR/test/scripts/plot_lineplots.py\n"
     ]
    }
   ],
   "source": [
    "%%writefile /hpc/home/rv103/revathy/BlueSTARR/test/scripts/plot_lineplots.py\n",
    "import pandas as pd\n",
    "import numpy as np\n",
    "import matplotlib.pyplot as plt\n",
    "import seaborn as sns\n",
    "import os\n",
    "import argparse\n",
    "\n",
    "def read_df(path):\n",
    "    df = pd.read_csv(path, sep=\"\\t\", header=None)\n",
    "    df.columns = ['location', 'ref_score', 'sequence', 'background_ref_score']\n",
    "    df['fc'] = df['ref_score'] - df['background_ref_score']\n",
    "    df['distance'] = np.tile(np.arange(23, 244, 20), len(df) // 12)\n",
    "    df_fc = df.groupby('distance').agg(mean_fc=('fc', 'mean'), sd_fc=('fc', 'std')).reset_index()\n",
    "    return df_fc\n",
    "\n",
    "def main(directory, output_png):\n",
    "    files = [f for f in os.listdir(directory) if f.endswith(\".txt\")]\n",
    "    x = np.arange(23, 244, 20)\n",
    "    \n",
    "    plt.figure(figsize=(10, 8))\n",
    "    for i, filename in enumerate(files):\n",
    "        path = os.path.join(directory, filename)\n",
    "        df_fc = read_df(path)\n",
    "        plt.plot(x, df_fc['mean_fc'], label=f\"File {i+1}: {filename}\", lw=1.5)\n",
    "        plt.text(x[-1] + 2, df_fc['mean_fc'].values[-1], f\"{filename}\", \n",
    "                 fontsize=8, va='center')\n",
    "    \n",
    "    plt.title(\"Mean log2FC for AP1 v/s all TF motifs in K562\")\n",
    "    plt.xlabel(\"Base Pairs between AP1 and Motif\")\n",
    "    plt.ylabel(\"Mean log2FC (Ap1_Motif/Background)\")\n",
    "    plt.xticks(x, rotation=45)\n",
    "    plt.ylim(-0.5, 2)\n",
    "    sns.despine()\n",
    "    plt.tight_layout()\n",
    "    plt.savefig(output_png)\n",
    "    plt.close()\n",
    "    \n",
    "if __name__ == \"__main__\":\n",
    "    parser = argparse.ArgumentParser(description=\"This script generates a single line plot with logFCs of all TFs.Here X-axis is position of motif2 and Y-axis is the logFC between motif1 & motif2.\")\n",
    "    parser.add_argument(\"directory\", help='Path to the directory with the logFC files')\n",
    "    parser.add_argument(\"output_png\", help='Path to the output .PNG file')\n",
    "    \n",
    "    args = parser.parse_args()\n",
    "    main(args.directory, args.output_png)"
   ]
  },
  {
   "cell_type": "code",
   "execution_count": 3,
   "id": "5d18f1e2-8d26-43b4-a2eb-21250dfc1360",
   "metadata": {},
   "outputs": [
    {
     "name": "stdout",
     "output_type": "stream",
     "text": [
      "Overwriting /hpc/home/rv103/revathy/BlueSTARR/test/scripts/plot_boxplots.q\n"
     ]
    }
   ],
   "source": [
    "%%writefile /hpc/home/rv103/revathy/BlueSTARR/test/scripts/plot_boxplots.q\n",
    "#!/bin/sh\n",
    "#\n",
    "#SBATCH --get-user-env\n",
    "#SBATCH -J plot\n",
    "#SBATCH --mail-user=rv103@duke.edu\n",
    "#SBATCH --mail-type=END,FAIL\n",
    "#SBATCH --gres=gpu:1\n",
    "#SBATCH -p majoroslab-gpu,scavenger-gpu\n",
    "#SBATCH --nice=100\n",
    "#SBATCH --mem=102400\n",
    "#SBATCH --cpus-per-task=1\n",
    "#SBATCH -o /hpc/home/rv103/revathy/BlueSTARR/test/logs/K562_plot_boxplots.out\n",
    "#SBATCH -e /hpc/home/rv103/revathy/BlueSTARR/test/logs/K562_plot_boxplots.err\n",
    "#\n",
    "python /hpc/home/rv103/revathy/BlueSTARR/test/scripts/plot_boxplots.py"
   ]
  },
  {
   "cell_type": "code",
   "execution_count": 10,
   "id": "7a8045d3-c83f-46e2-baf2-773fc4fffe4b",
   "metadata": {},
   "outputs": [
    {
     "name": "stdout",
     "output_type": "stream",
     "text": [
      "Overwriting /hpc/home/rv103/revathy/BlueSTARR/test/scripts/plot_boxplots.py\n"
     ]
    }
   ],
   "source": [
    "%%writefile /hpc/home/rv103/revathy/BlueSTARR/test/scripts/plot_boxplots.py\n",
    "import pandas as pd\n",
    "import numpy as np\n",
    "import matplotlib.pyplot as plt\n",
    "import os\n",
    "import argparse\n",
    "from matplotlib.backends.backend_pdf import PdfPages\n",
    "\n",
    "def read_df(path):\n",
    "    # Read the file into a pandas DataFrame\n",
    "    df = pd.read_csv(path, sep=\"\\t\", header=None)\n",
    "    df.columns = ['location', 'ref_score', 'sequence', 'background_ref_score']\n",
    "    df['fc'] = df['ref_score'] - df['background_ref_score']\n",
    "    df['distance'] = np.tile(np.arange(23, 244, 20), len(df) // 12)\n",
    "    df_fc = df.groupby('distance').agg(\n",
    "        mean_fc=('fc', 'mean'),\n",
    "        sd_fc=('fc', 'std')\n",
    "    ).reset_index()\n",
    "    \n",
    "    return df_fc\n",
    "\n",
    "def main(directory, output_pdf, plots_per_page=16):\n",
    "    files = [f for f in os.listdir(directory) if f.endswith(\".txt\")]\n",
    "    num_files = len(files)\n",
    "    cols = 4  \n",
    "    rows = plots_per_page // cols\n",
    "    with PdfPages(output_pdf) as pdf:\n",
    "        for page_start in range(0, num_files, plots_per_page):\n",
    "            fig, axes = plt.subplots(rows, cols, figsize=(16, 16))  # Adjust figsize as needed\n",
    "            axes = axes.flatten()\n",
    "            for i in range(plots_per_page):\n",
    "                file_idx = page_start + i\n",
    "                if file_idx >= num_files:\n",
    "                    axes[i].axis('off')\n",
    "                else:\n",
    "                    path = os.path.join(directory, files[file_idx])\n",
    "                    df_fc = read_df(path)\n",
    "                    x = np.arange(23, 244, 20)\n",
    "#                     axes[i].plot(x, df_fc['mean_fc'], '-o', lw=1.5)\n",
    "                    axes[i].errorbar(x, df_fc['mean_fc'], yerr=df_fc['sd_fc'], fmt='-o', capsize=5, lw=1.5)\n",
    "                    axes[i].set_title(f\"{files[file_idx]}\", fontsize=8)\n",
    "                    axes[i].set_ylim(-0.5, 1.5)\n",
    "                    axes[i].set_xticks(x)\n",
    "                    axes[i].tick_params(axis='x', rotation=45, labelsize=6)\n",
    "                    axes[i].tick_params(axis='y', labelsize=6)\n",
    "                    axes[i].grid(False)\n",
    "                    \n",
    "            plt.tight_layout()\n",
    "            pdf.savefig(fig)\n",
    "            plt.close(fig) \n",
    "            \n",
    "if __name__ == \"__main__\":\n",
    "    parser = argparse.ArgumentParser(description=\"This script boxplots of logFCs for each TF with the X-axis as the position of motif2 and Y-axis represents the logFC between motif1 & motif2.\")\n",
    "    parser.add_argument(\"directory\", help='Path to the directory with the logFC files')\n",
    "    parser.add_argument(\"output_pdf\", help='Path to the output .pdf file')\n",
    "    parser.add_argument(\"plots_per_page\", help='Number of plots in a single page of the .pdf file', type=int)\n",
    "    \n",
    "    args = parser.parse_args()\n",
    "    main(args.directory, args.output_pdf, args.plots_per_page)"
   ]
  },
  {
   "cell_type": "code",
   "execution_count": 11,
   "id": "16dc189e-0b35-4fa1-ac94-2ec1d52d40cb",
   "metadata": {},
   "outputs": [
    {
     "name": "stdout",
     "output_type": "stream",
     "text": [
      "Overwriting /hpc/home/rv103/revathy/BlueSTARR/test/scripts/plot_boxplots.q\n"
     ]
    }
   ],
   "source": [
    "%%writefile /hpc/home/rv103/revathy/BlueSTARR/test/scripts/plot_boxplots.q\n",
    "#!/bin/sh\n",
    "#\n",
    "#SBATCH --get-user-env\n",
    "#SBATCH -J boxplot\n",
    "#SBATCH --mail-user=rv103@duke.edu\n",
    "#SBATCH --mail-type=END,FAIL\n",
    "#SBATCH --gres=gpu:1\n",
    "#SBATCH -p majoroslab-gpu,scavenger-gpu\n",
    "#SBATCH --nice=100\n",
    "#SBATCH --mem=102400\n",
    "#SBATCH --cpus-per-task=1\n",
    "#SBATCH -o /hpc/home/rv103/revathy/BlueSTARR/test/logs/K562_plot_boxplots.out\n",
    "#SBATCH -e /hpc/home/rv103/revathy/BlueSTARR/test/logs/K562_plot_boxplots.err\n",
    "#\n",
    "python /hpc/home/rv103/revathy/BlueSTARR/test/scripts/plot_boxplots.py \\\n",
    "/hpc/home/rv103/revathy/BlueSTARR/test/data/K562/all_motifs/logfc \\\n",
    "/hpc/home/rv103/revathy/BlueSTARR/test/data/K562/all_motifs/K562_AP1_all_motifs_boxplot.pdf 16"
   ]
  },
  {
   "cell_type": "code",
   "execution_count": null,
   "id": "653be887-d170-4104-8dac-595736067795",
   "metadata": {},
   "outputs": [],
   "source": [
    "if(len(sys.argv)!=4):\n",
    "    exit(ProgramName.get()+\" <directory> <output_pdf> <plots_per_page>\\n\")\n",
    "(directory, output_pdf, plots_per_page)=sys.argv[1:]\n",
    "main(directory, output_pdf, int(plots_per_page))"
   ]
  }
 ],
 "metadata": {
  "kernelspec": {
   "display_name": "Python 3",
   "language": "python",
   "name": "python3"
  },
  "language_info": {
   "codemirror_mode": {
    "name": "ipython",
    "version": 3
   },
   "file_extension": ".py",
   "mimetype": "text/x-python",
   "name": "python",
   "nbconvert_exporter": "python",
   "pygments_lexer": "ipython3",
   "version": "3.8.8"
  }
 },
 "nbformat": 4,
 "nbformat_minor": 5
}
